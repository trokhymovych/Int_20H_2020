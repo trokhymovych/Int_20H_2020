{
 "cells": [
  {
   "cell_type": "markdown",
   "metadata": {},
   "source": [
    "# Sorting in folders"
   ]
  },
  {
   "cell_type": "code",
   "execution_count": 1,
   "metadata": {},
   "outputs": [],
   "source": [
    "from sklearn.model_selection import train_test_split\n",
    "\n",
    "import os\n",
    "import pandas as pd\n",
    "from shutil import copyfile\n",
    "from tqdm.auto import tqdm\n",
    "\n",
    "def check_path(path):\n",
    "    os.system(\"if [ ! -d \" + path + \" ]; then mkdir -p \" + path + \"; fi\")"
   ]
  },
  {
   "cell_type": "code",
   "execution_count": 2,
   "metadata": {},
   "outputs": [
    {
     "data": {
      "text/html": [
       "<div>\n",
       "<style scoped>\n",
       "    .dataframe tbody tr th:only-of-type {\n",
       "        vertical-align: middle;\n",
       "    }\n",
       "\n",
       "    .dataframe tbody tr th {\n",
       "        vertical-align: top;\n",
       "    }\n",
       "\n",
       "    .dataframe thead th {\n",
       "        text-align: right;\n",
       "    }\n",
       "</style>\n",
       "<table border=\"1\" class=\"dataframe\">\n",
       "  <thead>\n",
       "    <tr style=\"text-align: right;\">\n",
       "      <th></th>\n",
       "      <th>name</th>\n",
       "      <th>category</th>\n",
       "    </tr>\n",
       "  </thead>\n",
       "  <tbody>\n",
       "    <tr>\n",
       "      <th>0</th>\n",
       "      <td>0.jpg</td>\n",
       "      <td>47</td>\n",
       "    </tr>\n",
       "    <tr>\n",
       "      <th>1</th>\n",
       "      <td>1.jpg</td>\n",
       "      <td>60</td>\n",
       "    </tr>\n",
       "  </tbody>\n",
       "</table>\n",
       "</div>"
      ],
      "text/plain": [
       "    name  category\n",
       "0  0.jpg        47\n",
       "1  1.jpg        60"
      ]
     },
     "metadata": {},
     "output_type": "display_data"
    }
   ],
   "source": [
    "labels_path = 'train.csv'\n",
    "labels = pd.read_csv(labels_path)\n",
    "display(labels.head(2))"
   ]
  },
  {
   "cell_type": "code",
   "execution_count": 3,
   "metadata": {},
   "outputs": [],
   "source": [
    "train_X, val_X = train_test_split(labels, test_size=0.1)"
   ]
  },
  {
   "cell_type": "code",
   "execution_count": 4,
   "metadata": {},
   "outputs": [
    {
     "data": {
      "text/html": [
       "<div>\n",
       "<style scoped>\n",
       "    .dataframe tbody tr th:only-of-type {\n",
       "        vertical-align: middle;\n",
       "    }\n",
       "\n",
       "    .dataframe tbody tr th {\n",
       "        vertical-align: top;\n",
       "    }\n",
       "\n",
       "    .dataframe thead th {\n",
       "        text-align: right;\n",
       "    }\n",
       "</style>\n",
       "<table border=\"1\" class=\"dataframe\">\n",
       "  <thead>\n",
       "    <tr style=\"text-align: right;\">\n",
       "      <th></th>\n",
       "      <th>name</th>\n",
       "      <th>category</th>\n",
       "    </tr>\n",
       "  </thead>\n",
       "  <tbody>\n",
       "    <tr>\n",
       "      <th>3418</th>\n",
       "      <td>3418.jpg</td>\n",
       "      <td>15</td>\n",
       "    </tr>\n",
       "    <tr>\n",
       "      <th>4864</th>\n",
       "      <td>4864.jpg</td>\n",
       "      <td>83</td>\n",
       "    </tr>\n",
       "  </tbody>\n",
       "</table>\n",
       "</div>"
      ],
      "text/plain": [
       "          name  category\n",
       "3418  3418.jpg        15\n",
       "4864  4864.jpg        83"
      ]
     },
     "execution_count": 4,
     "metadata": {},
     "output_type": "execute_result"
    }
   ],
   "source": [
    "train_X.head(2)"
   ]
  },
  {
   "cell_type": "code",
   "execution_count": 5,
   "metadata": {},
   "outputs": [],
   "source": [
    "categories_train = train_X.groupby(['category'])['name'].apply(lambda grp: list(grp)).to_dict()\n",
    "categories_val = val_X.groupby(['category'])['name'].apply(lambda grp: list(grp)).to_dict()"
   ]
  },
  {
   "cell_type": "code",
   "execution_count": 6,
   "metadata": {},
   "outputs": [],
   "source": [
    "def make_cat(categories,train_path,output_path):\n",
    "    check_path(output_path)\n",
    "    for key in tqdm(categories.keys()):\n",
    "        check_path(output_path+str(key))\n",
    "        for pict_name in categories[key]:\n",
    "            try:\n",
    "                copyfile(train_path+pict_name, output_path+str(key)+\"/\"+pict_name)\n",
    "            except Exception as e:\n",
    "                print(\"Problem with \", train_path+pict_name)\n",
    "                print(e)"
   ]
  },
  {
   "cell_type": "code",
   "execution_count": 7,
   "metadata": {},
   "outputs": [],
   "source": [
    "# os.listdir(\"train/train\")"
   ]
  },
  {
   "cell_type": "code",
   "execution_count": 8,
   "metadata": {},
   "outputs": [
    {
     "data": {
      "application/vnd.jupyter.widget-view+json": {
       "model_id": "11c8cf97589246ac8d110e49911c13d4",
       "version_major": 2,
       "version_minor": 0
      },
      "text/plain": [
       "HBox(children=(IntProgress(value=0), HTML(value='')))"
      ]
     },
     "metadata": {},
     "output_type": "display_data"
    },
    {
     "name": "stdout",
     "output_type": "stream",
     "text": [
      "\n"
     ]
    },
    {
     "data": {
      "application/vnd.jupyter.widget-view+json": {
       "model_id": "99d9125a42404a90b3ae8da1ef11e390",
       "version_major": 2,
       "version_minor": 0
      },
      "text/plain": [
       "HBox(children=(IntProgress(value=0), HTML(value='')))"
      ]
     },
     "metadata": {},
     "output_type": "display_data"
    },
    {
     "name": "stdout",
     "output_type": "stream",
     "text": [
      "\n"
     ]
    }
   ],
   "source": [
    "train_path = \"train/train/\"\n",
    "output_train_path = \"image_data2/train/\"\n",
    "output_val_path = \"image_data2/val/\"\n",
    "\n",
    "make_cat(categories_train,train_path,output_train_path)\n",
    "make_cat(categories_val,train_path,output_val_path)"
   ]
  },
  {
   "cell_type": "markdown",
   "metadata": {},
   "source": [
    "# Augmentation pipeline"
   ]
  },
  {
   "cell_type": "code",
   "execution_count": 9,
   "metadata": {},
   "outputs": [],
   "source": [
    "import glob\n",
    "import numpy as np\n",
    "import matplotlib.pyplot as plt\n",
    "from pylab import rcParams\n",
    "import PIL.Image as img\n",
    "\n",
    "# Uploading dataset\n",
    "def img_array(path):\n",
    "    image = img.open(path)\n",
    "    tmp = np.array(image)\n",
    "    image.close()\n",
    "    return tmp"
   ]
  },
  {
   "cell_type": "code",
   "execution_count": 10,
   "metadata": {},
   "outputs": [
    {
     "name": "stderr",
     "output_type": "stream",
     "text": [
      "\r",
      "Executing Pipeline:   0%|          | 0/181 [00:00<?, ? Samples/s]"
     ]
    },
    {
     "name": "stdout",
     "output_type": "stream",
     "text": [
      "Initialised with 219 image(s) found.\n",
      "Output directory set to image_data2/train/0/output."
     ]
    },
    {
     "name": "stderr",
     "output_type": "stream",
     "text": [
      "Processing <PIL.Image.Image image mode=RGB size=584x1012 at 0x7F61600916D8>: 100%|██████████| 181/181 [00:04<00:00, 39.89 Samples/s]                  \n",
      "Executing Pipeline:   0%|          | 0/264 [00:00<?, ? Samples/s]"
     ]
    },
    {
     "name": "stdout",
     "output_type": "stream",
     "text": [
      "Initialised with 136 image(s) found.\n",
      "Output directory set to image_data2/train/1/output."
     ]
    },
    {
     "name": "stderr",
     "output_type": "stream",
     "text": [
      "Processing <PIL.Image.Image image mode=RGB size=314x1024 at 0x7F610F173780>: 100%|██████████| 264/264 [00:04<00:00, 61.57 Samples/s]                  \n",
      "Executing Pipeline:   0%|          | 0/176 [00:00<?, ? Samples/s]"
     ]
    },
    {
     "name": "stdout",
     "output_type": "stream",
     "text": [
      "Initialised with 224 image(s) found.\n",
      "Output directory set to image_data2/train/2/output."
     ]
    },
    {
     "name": "stderr",
     "output_type": "stream",
     "text": [
      "Processing <PIL.Image.Image image mode=RGB size=853x1280 at 0x7F6150183588>: 100%|██████████| 176/176 [00:04<00:00, 40.42 Samples/s]                \n",
      "Executing Pipeline:   0%|          | 0/179 [00:00<?, ? Samples/s]"
     ]
    },
    {
     "name": "stdout",
     "output_type": "stream",
     "text": [
      "Initialised with 221 image(s) found.\n",
      "Output directory set to image_data2/train/3/output."
     ]
    },
    {
     "name": "stderr",
     "output_type": "stream",
     "text": [
      "Processing <PIL.Image.Image image mode=RGB size=1242x1207 at 0x7F6150183B00>: 100%|██████████| 179/179 [00:04<00:00, 40.59 Samples/s]                \n",
      "Executing Pipeline:   0%|          | 0/206 [00:00<?, ? Samples/s]"
     ]
    },
    {
     "name": "stdout",
     "output_type": "stream",
     "text": [
      "Initialised with 194 image(s) found.\n",
      "Output directory set to image_data2/train/4/output."
     ]
    },
    {
     "name": "stderr",
     "output_type": "stream",
     "text": [
      "Processing <PIL.Image.Image image mode=RGB size=800x800 at 0x7F6162CA1240>: 100%|██████████| 206/206 [00:04<00:00, 45.90 Samples/s]                   \n",
      "Executing Pipeline:   0%|          | 0/193 [00:00<?, ? Samples/s]"
     ]
    },
    {
     "name": "stdout",
     "output_type": "stream",
     "text": [
      "Initialised with 207 image(s) found.\n",
      "Output directory set to image_data2/train/5/output."
     ]
    },
    {
     "name": "stderr",
     "output_type": "stream",
     "text": [
      "Processing <PIL.Image.Image image mode=RGB size=817x1280 at 0x7F615031A0B8>: 100%|██████████| 193/193 [00:04<00:00, 42.76 Samples/s] \n",
      "Executing Pipeline:   0%|          | 0/273 [00:00<?, ? Samples/s]"
     ]
    },
    {
     "name": "stdout",
     "output_type": "stream",
     "text": [
      "Initialised with 127 image(s) found.\n",
      "Output directory set to image_data2/train/6/output."
     ]
    },
    {
     "name": "stderr",
     "output_type": "stream",
     "text": [
      "Processing <PIL.JpegImagePlugin.JpegImageFile image mode=RGB size=1180x1280 at 0x7F6150303518>: 100%|██████████| 273/273 [00:05<00:00, 46.31 Samples/s] \n",
      "Executing Pipeline:   0%|          | 0/230 [00:00<?, ? Samples/s]"
     ]
    },
    {
     "name": "stdout",
     "output_type": "stream",
     "text": [
      "Initialised with 170 image(s) found.\n",
      "Output directory set to image_data2/train/7/output."
     ]
    },
    {
     "name": "stderr",
     "output_type": "stream",
     "text": [
      "Processing <PIL.Image.Image image mode=RGB size=960x1280 at 0x7F610F1732E8>: 100%|██████████| 230/230 [00:05<00:00, 41.58 Samples/s]                   \n",
      "Executing Pipeline:   0%|          | 0/331 [00:00<?, ? Samples/s]"
     ]
    },
    {
     "name": "stdout",
     "output_type": "stream",
     "text": [
      "Initialised with 69 image(s) found.\n",
      "Output directory set to image_data2/train/8/output."
     ]
    },
    {
     "name": "stderr",
     "output_type": "stream",
     "text": [
      "Processing <PIL.Image.Image image mode=RGB size=500x500 at 0x7F612915D7F0>: 100%|██████████| 331/331 [00:06<00:00, 54.97 Samples/s]                 \n",
      "Executing Pipeline:   0%|          | 0/219 [00:00<?, ? Samples/s]"
     ]
    },
    {
     "name": "stdout",
     "output_type": "stream",
     "text": [
      "Initialised with 181 image(s) found.\n",
      "Output directory set to image_data2/train/9/output."
     ]
    },
    {
     "name": "stderr",
     "output_type": "stream",
     "text": [
      "Processing <PIL.Image.Image image mode=RGB size=750x1000 at 0x7F613C0CDDD8>: 100%|██████████| 219/219 [00:05<00:00, 38.74 Samples/s]                  \n",
      "Executing Pipeline:   0%|          | 0/322 [00:00<?, ? Samples/s]"
     ]
    },
    {
     "name": "stdout",
     "output_type": "stream",
     "text": [
      "Initialised with 78 image(s) found.\n",
      "Output directory set to image_data2/train/10/output."
     ]
    },
    {
     "name": "stderr",
     "output_type": "stream",
     "text": [
      "Processing <PIL.Image.Image image mode=RGB size=600x600 at 0x7F616010CA58>: 100%|██████████| 322/322 [00:04<00:00, 65.35 Samples/s]                  \n",
      "Executing Pipeline:   0%|          | 0/232 [00:00<?, ? Samples/s]"
     ]
    },
    {
     "name": "stdout",
     "output_type": "stream",
     "text": [
      "Initialised with 168 image(s) found.\n",
      "Output directory set to image_data2/train/11/output."
     ]
    },
    {
     "name": "stderr",
     "output_type": "stream",
     "text": [
      "Processing <PIL.Image.Image image mode=RGB size=1280x1171 at 0x7F613C0BCB00>: 100%|██████████| 232/232 [00:05<00:00, 44.85 Samples/s]                 \n",
      "Executing Pipeline:   0%|          | 0/281 [00:00<?, ? Samples/s]"
     ]
    },
    {
     "name": "stdout",
     "output_type": "stream",
     "text": [
      "Initialised with 119 image(s) found.\n",
      "Output directory set to image_data2/train/12/output."
     ]
    },
    {
     "name": "stderr",
     "output_type": "stream",
     "text": [
      "Processing <PIL.Image.Image image mode=RGB size=913x1280 at 0x7F616010AF28>: 100%|██████████| 281/281 [00:06<00:00, 118.10 Samples/s]                \n",
      "Executing Pipeline:   0%|          | 0/252 [00:00<?, ? Samples/s]"
     ]
    },
    {
     "name": "stdout",
     "output_type": "stream",
     "text": [
      "Initialised with 148 image(s) found.\n",
      "Output directory set to image_data2/train/13/output."
     ]
    },
    {
     "name": "stderr",
     "output_type": "stream",
     "text": [
      "Processing <PIL.Image.Image image mode=RGB size=960x1280 at 0x7F610F198A58>: 100%|██████████| 252/252 [00:05<00:00, 47.95 Samples/s]                  \n",
      "Executing Pipeline:   0%|          | 0/177 [00:00<?, ? Samples/s]"
     ]
    },
    {
     "name": "stdout",
     "output_type": "stream",
     "text": [
      "Initialised with 223 image(s) found.\n",
      "Output directory set to image_data2/train/14/output."
     ]
    },
    {
     "name": "stderr",
     "output_type": "stream",
     "text": [
      "Processing <PIL.Image.Image image mode=RGB size=1000x1000 at 0x7F6162CA1BE0>: 100%|██████████| 177/177 [00:03<00:00, 50.16 Samples/s]\n",
      "Executing Pipeline:   0%|          | 0/281 [00:00<?, ? Samples/s]"
     ]
    },
    {
     "name": "stdout",
     "output_type": "stream",
     "text": [
      "Initialised with 119 image(s) found.\n",
      "Output directory set to image_data2/train/15/output."
     ]
    },
    {
     "name": "stderr",
     "output_type": "stream",
     "text": [
      "Processing <PIL.Image.Image image mode=RGB size=400x533 at 0x7F615014A6A0>: 100%|██████████| 281/281 [00:05<00:00, 47.06 Samples/s]                  \n",
      "Executing Pipeline:   0%|          | 0/208 [00:00<?, ? Samples/s]"
     ]
    },
    {
     "name": "stdout",
     "output_type": "stream",
     "text": [
      "Initialised with 192 image(s) found.\n",
      "Output directory set to image_data2/train/16/output."
     ]
    },
    {
     "name": "stderr",
     "output_type": "stream",
     "text": [
      "Processing <PIL.Image.Image image mode=RGB size=1280x960 at 0x7F61601417F0>: 100%|██████████| 208/208 [00:05<00:00, 39.36 Samples/s]                   \n",
      "Executing Pipeline:   0%|          | 0/326 [00:00<?, ? Samples/s]"
     ]
    },
    {
     "name": "stdout",
     "output_type": "stream",
     "text": [
      "Initialised with 74 image(s) found.\n",
      "Output directory set to image_data2/train/17/output."
     ]
    },
    {
     "name": "stderr",
     "output_type": "stream",
     "text": [
      "Processing <PIL.Image.Image image mode=RGB size=1000x1000 at 0x7F6162CA1DA0>: 100%|██████████| 326/326 [00:07<00:00, 46.31 Samples/s]                  \n",
      "Executing Pipeline:   0%|          | 0/247 [00:00<?, ? Samples/s]"
     ]
    },
    {
     "name": "stdout",
     "output_type": "stream",
     "text": [
      "Initialised with 153 image(s) found.\n",
      "Output directory set to image_data2/train/18/output."
     ]
    },
    {
     "name": "stderr",
     "output_type": "stream",
     "text": [
      "Processing <PIL.Image.Image image mode=RGB size=314x400 at 0x7F61500DF668>: 100%|██████████| 247/247 [00:04<00:00, 58.32 Samples/s]                   \n",
      "Executing Pipeline:   0%|          | 0/302 [00:00<?, ? Samples/s]"
     ]
    },
    {
     "name": "stdout",
     "output_type": "stream",
     "text": [
      "Initialised with 98 image(s) found.\n",
      "Output directory set to image_data2/train/19/output."
     ]
    },
    {
     "name": "stderr",
     "output_type": "stream",
     "text": [
      "Processing <PIL.Image.Image image mode=RGB size=800x800 at 0x7F610F158198>: 100%|██████████| 302/302 [00:07<00:00, 38.43 Samples/s]                     \n",
      "Executing Pipeline:   0%|          | 0/217 [00:00<?, ? Samples/s]"
     ]
    },
    {
     "name": "stdout",
     "output_type": "stream",
     "text": [
      "Initialised with 183 image(s) found.\n",
      "Output directory set to image_data2/train/20/output."
     ]
    },
    {
     "name": "stderr",
     "output_type": "stream",
     "text": [
      "Processing <PIL.Image.Image image mode=RGB size=1280x960 at 0x7F6162D77DD8>: 100%|██████████| 217/217 [00:05<00:00, 40.87 Samples/s]                 \n",
      "Executing Pipeline:   0%|          | 0/243 [00:00<?, ? Samples/s]"
     ]
    },
    {
     "name": "stdout",
     "output_type": "stream",
     "text": [
      "Initialised with 157 image(s) found.\n",
      "Output directory set to image_data2/train/21/output."
     ]
    },
    {
     "name": "stderr",
     "output_type": "stream",
     "text": [
      "Processing <PIL.Image.Image image mode=RGB size=800x536 at 0x7F6160123278>: 100%|██████████| 243/243 [00:05<00:00, 41.75 Samples/s]                   \n",
      "Executing Pipeline:   0%|          | 0/239 [00:00<?, ? Samples/s]"
     ]
    },
    {
     "name": "stdout",
     "output_type": "stream",
     "text": [
      "Initialised with 161 image(s) found.\n",
      "Output directory set to image_data2/train/22/output."
     ]
    },
    {
     "name": "stderr",
     "output_type": "stream",
     "text": [
      "Processing <PIL.Image.Image image mode=RGB size=250x300 at 0x7F612AF345C0>: 100%|██████████| 239/239 [00:05<00:00, 40.45 Samples/s]                   \n",
      "Executing Pipeline:   0%|          | 0/246 [00:00<?, ? Samples/s]"
     ]
    },
    {
     "name": "stdout",
     "output_type": "stream",
     "text": [
      "Initialised with 154 image(s) found.\n",
      "Output directory set to image_data2/train/23/output."
     ]
    },
    {
     "name": "stderr",
     "output_type": "stream",
     "text": [
      "Processing <PIL.Image.Image image mode=RGB size=778x1200 at 0x7F6162CB3BE0>: 100%|██████████| 246/246 [00:05<00:00, 47.13 Samples/s]                   \n",
      "Executing Pipeline:   0%|          | 0/191 [00:00<?, ? Samples/s]"
     ]
    },
    {
     "name": "stdout",
     "output_type": "stream",
     "text": [
      "Initialised with 209 image(s) found.\n",
      "Output directory set to image_data2/train/24/output."
     ]
    },
    {
     "name": "stderr",
     "output_type": "stream",
     "text": [
      "Processing <PIL.Image.Image image mode=RGB size=1008x720 at 0x7F612855CE80>: 100%|██████████| 191/191 [00:04<00:00, 40.33 Samples/s]                 \n",
      "Executing Pipeline:   0%|          | 0/323 [00:00<?, ? Samples/s]"
     ]
    },
    {
     "name": "stdout",
     "output_type": "stream",
     "text": [
      "Initialised with 77 image(s) found.\n",
      "Output directory set to image_data2/train/25/output."
     ]
    },
    {
     "name": "stderr",
     "output_type": "stream",
     "text": [
      "Processing <PIL.Image.Image image mode=RGB size=1003x1280 at 0x7F612AF34908>: 100%|██████████| 323/323 [00:06<00:00, 47.65 Samples/s]                  \n",
      "Executing Pipeline:   0%|          | 0/221 [00:00<?, ? Samples/s]"
     ]
    },
    {
     "name": "stdout",
     "output_type": "stream",
     "text": [
      "Initialised with 179 image(s) found.\n",
      "Output directory set to image_data2/train/26/output."
     ]
    },
    {
     "name": "stderr",
     "output_type": "stream",
     "text": [
      "Processing <PIL.Image.Image image mode=RGB size=375x563 at 0x7F6150143E10>: 100%|██████████| 221/221 [00:05<00:00, 43.52 Samples/s]                   \n",
      "Executing Pipeline:   0%|          | 0/269 [00:00<?, ? Samples/s]"
     ]
    },
    {
     "name": "stdout",
     "output_type": "stream",
     "text": [
      "Initialised with 131 image(s) found.\n",
      "Output directory set to image_data2/train/27/output."
     ]
    },
    {
     "name": "stderr",
     "output_type": "stream",
     "text": [
      "Processing <PIL.Image.Image image mode=RGB size=1280x1280 at 0x7F61500DFC88>: 100%|██████████| 269/269 [00:05<00:00, 50.83 Samples/s]                 \n",
      "Executing Pipeline:   0%|          | 0/331 [00:00<?, ? Samples/s]"
     ]
    },
    {
     "name": "stdout",
     "output_type": "stream",
     "text": [
      "Initialised with 69 image(s) found.\n",
      "Output directory set to image_data2/train/28/output."
     ]
    },
    {
     "name": "stderr",
     "output_type": "stream",
     "text": [
      "Processing <PIL.Image.Image image mode=RGB size=868x1280 at 0x7F61285D6710>: 100%|██████████| 331/331 [00:07<00:00, 42.92 Samples/s]                 \n",
      "Executing Pipeline:   0%|          | 0/206 [00:00<?, ? Samples/s]"
     ]
    },
    {
     "name": "stdout",
     "output_type": "stream",
     "text": [
      "Initialised with 194 image(s) found.\n",
      "Output directory set to image_data2/train/29/output."
     ]
    },
    {
     "name": "stderr",
     "output_type": "stream",
     "text": [
      "Processing <PIL.Image.Image image mode=RGB size=200x200 at 0x7F61285ADBE0>: 100%|██████████| 206/206 [00:03<00:00, 54.17 Samples/s]                \n",
      "Executing Pipeline:   0%|          | 0/321 [00:00<?, ? Samples/s]"
     ]
    },
    {
     "name": "stdout",
     "output_type": "stream",
     "text": [
      "Initialised with 79 image(s) found.\n",
      "Output directory set to image_data2/train/30/output."
     ]
    },
    {
     "name": "stderr",
     "output_type": "stream",
     "text": [
      "Processing <PIL.Image.Image image mode=RGB size=800x1200 at 0x7F612A499240>: 100%|██████████| 321/321 [00:07<00:00, 44.10 Samples/s]                   \n",
      "Executing Pipeline:   0%|          | 0/249 [00:00<?, ? Samples/s]"
     ]
    },
    {
     "name": "stdout",
     "output_type": "stream",
     "text": [
      "Initialised with 151 image(s) found.\n",
      "Output directory set to image_data2/train/31/output."
     ]
    },
    {
     "name": "stderr",
     "output_type": "stream",
     "text": [
      "Processing <PIL.Image.Image image mode=RGB size=250x250 at 0x7F610F1982E8>: 100%|██████████| 249/249 [00:05<00:00, 44.60 Samples/s]                   \n",
      "Executing Pipeline:   0%|          | 0/313 [00:00<?, ? Samples/s]"
     ]
    },
    {
     "name": "stdout",
     "output_type": "stream",
     "text": [
      "Initialised with 87 image(s) found.\n",
      "Output directory set to image_data2/train/32/output."
     ]
    },
    {
     "name": "stderr",
     "output_type": "stream",
     "text": [
      "Processing <PIL.Image.Image image mode=RGB size=225x225 at 0x7F616011CAC8>: 100%|██████████| 313/313 [00:05<00:00, 53.43 Samples/s]                    \n",
      "Executing Pipeline:   0%|          | 0/207 [00:00<?, ? Samples/s]"
     ]
    },
    {
     "name": "stdout",
     "output_type": "stream",
     "text": [
      "Initialised with 193 image(s) found.\n",
      "Output directory set to image_data2/train/33/output."
     ]
    },
    {
     "name": "stderr",
     "output_type": "stream",
     "text": [
      "Processing <PIL.Image.Image image mode=RGB size=1278x1110 at 0x7F6160A259B0>: 100%|██████████| 207/207 [00:05<00:00, 35.49 Samples/s]                \n",
      "Executing Pipeline:   0%|          | 0/306 [00:00<?, ? Samples/s]"
     ]
    },
    {
     "name": "stdout",
     "output_type": "stream",
     "text": [
      "Initialised with 94 image(s) found.\n",
      "Output directory set to image_data2/train/34/output."
     ]
    },
    {
     "name": "stderr",
     "output_type": "stream",
     "text": [
      "Processing <PIL.Image.Image image mode=RGB size=260x390 at 0x7F612A39C128>: 100%|██████████| 306/306 [00:06<00:00, 47.41 Samples/s]                   \n",
      "Executing Pipeline:   0%|          | 0/321 [00:00<?, ? Samples/s]"
     ]
    },
    {
     "name": "stdout",
     "output_type": "stream",
     "text": [
      "Initialised with 79 image(s) found.\n",
      "Output directory set to image_data2/train/35/output."
     ]
    },
    {
     "name": "stderr",
     "output_type": "stream",
     "text": [
      "Processing <PIL.Image.Image image mode=RGB size=800x800 at 0x7F6162CB3160>: 100%|██████████| 321/321 [00:05<00:00, 60.08 Samples/s]                  \n",
      "Executing Pipeline:   0%|          | 0/264 [00:00<?, ? Samples/s]"
     ]
    },
    {
     "name": "stdout",
     "output_type": "stream",
     "text": [
      "Initialised with 136 image(s) found.\n",
      "Output directory set to image_data2/train/36/output."
     ]
    },
    {
     "name": "stderr",
     "output_type": "stream",
     "text": [
      "Processing <PIL.Image.Image image mode=RGB size=1280x1280 at 0x7F6160123470>: 100%|██████████| 264/264 [00:06<00:00, 38.85 Samples/s]                  \n",
      "Executing Pipeline:   0%|          | 0/251 [00:00<?, ? Samples/s]"
     ]
    },
    {
     "name": "stdout",
     "output_type": "stream",
     "text": [
      "Initialised with 149 image(s) found.\n",
      "Output directory set to image_data2/train/37/output."
     ]
    },
    {
     "name": "stderr",
     "output_type": "stream",
     "text": [
      "Processing <PIL.Image.Image image mode=RGB size=853x1280 at 0x7F615014A860>: 100%|██████████| 251/251 [00:05<00:00, 42.76 Samples/s]                  \n",
      "Executing Pipeline:   0%|          | 0/187 [00:00<?, ? Samples/s]"
     ]
    },
    {
     "name": "stdout",
     "output_type": "stream",
     "text": [
      "Initialised with 213 image(s) found.\n",
      "Output directory set to image_data2/train/38/output."
     ]
    },
    {
     "name": "stderr",
     "output_type": "stream",
     "text": [
      "Processing <PIL.Image.Image image mode=RGB size=960x1280 at 0x7F612932EBE0>: 100%|██████████| 187/187 [00:04<00:00, 43.60 Samples/s]                  \n",
      "Executing Pipeline:   0%|          | 0/187 [00:00<?, ? Samples/s]"
     ]
    },
    {
     "name": "stdout",
     "output_type": "stream",
     "text": [
      "Initialised with 213 image(s) found.\n",
      "Output directory set to image_data2/train/39/output."
     ]
    },
    {
     "name": "stderr",
     "output_type": "stream",
     "text": [
      "Processing <PIL.Image.Image image mode=RGB size=960x1280 at 0x7F610F158470>: 100%|██████████| 187/187 [00:04<00:00, 38.11 Samples/s]                  \n",
      "Executing Pipeline:   0%|          | 0/192 [00:00<?, ? Samples/s]"
     ]
    },
    {
     "name": "stdout",
     "output_type": "stream",
     "text": [
      "Initialised with 208 image(s) found.\n",
      "Output directory set to image_data2/train/40/output."
     ]
    },
    {
     "name": "stderr",
     "output_type": "stream",
     "text": [
      "Processing <PIL.Image.Image image mode=RGB size=1000x789 at 0x7F612A499518>: 100%|██████████| 192/192 [00:04<00:00, 38.91 Samples/s]                 \n",
      "Executing Pipeline:   0%|          | 0/256 [00:00<?, ? Samples/s]"
     ]
    },
    {
     "name": "stdout",
     "output_type": "stream",
     "text": [
      "Initialised with 144 image(s) found.\n",
      "Output directory set to image_data2/train/41/output."
     ]
    },
    {
     "name": "stderr",
     "output_type": "stream",
     "text": [
      "Processing <PIL.Image.Image image mode=RGB size=1024x683 at 0x7F612932E2B0>: 100%|██████████| 256/256 [00:05<00:00, 46.92 Samples/s]                   \n",
      "Executing Pipeline:   0%|          | 0/298 [00:00<?, ? Samples/s]"
     ]
    },
    {
     "name": "stdout",
     "output_type": "stream",
     "text": [
      "Initialised with 102 image(s) found.\n",
      "Output directory set to image_data2/train/42/output."
     ]
    },
    {
     "name": "stderr",
     "output_type": "stream",
     "text": [
      "Processing <PIL.Image.Image image mode=RGB size=500x500 at 0x7F6150183208>: 100%|██████████| 298/298 [00:03<00:00, 79.75 Samples/s]                  \n",
      "Executing Pipeline:   0%|          | 0/207 [00:00<?, ? Samples/s]"
     ]
    },
    {
     "name": "stdout",
     "output_type": "stream",
     "text": [
      "Initialised with 193 image(s) found.\n",
      "Output directory set to image_data2/train/43/output."
     ]
    },
    {
     "name": "stderr",
     "output_type": "stream",
     "text": [
      "Processing <PIL.Image.Image image mode=RGB size=800x800 at 0x7F612855C5F8>: 100%|██████████| 207/207 [00:03<00:00, 53.00 Samples/s]                    \n",
      "Executing Pipeline:   0%|          | 0/213 [00:00<?, ? Samples/s]"
     ]
    },
    {
     "name": "stdout",
     "output_type": "stream",
     "text": [
      "Initialised with 187 image(s) found.\n",
      "Output directory set to image_data2/train/44/output."
     ]
    },
    {
     "name": "stderr",
     "output_type": "stream",
     "text": [
      "Processing <PIL.Image.Image image mode=RGB size=810x1080 at 0x7F6160141D30>: 100%|██████████| 213/213 [00:05<00:00, 37.46 Samples/s]                  \n",
      "Executing Pipeline:   0%|          | 0/268 [00:00<?, ? Samples/s]"
     ]
    },
    {
     "name": "stdout",
     "output_type": "stream",
     "text": [
      "Initialised with 132 image(s) found.\n",
      "Output directory set to image_data2/train/45/output."
     ]
    },
    {
     "name": "stderr",
     "output_type": "stream",
     "text": [
      "Processing <PIL.Image.Image image mode=RGB size=264x799 at 0x7F610F158780>: 100%|██████████| 268/268 [00:04<00:00, 55.05 Samples/s]                   \n",
      "Executing Pipeline:   0%|          | 0/190 [00:00<?, ? Samples/s]"
     ]
    },
    {
     "name": "stdout",
     "output_type": "stream",
     "text": [
      "Initialised with 210 image(s) found.\n",
      "Output directory set to image_data2/train/46/output."
     ]
    },
    {
     "name": "stderr",
     "output_type": "stream",
     "text": [
      "Processing <PIL.Image.Image image mode=RGB size=600x600 at 0x7F616011CFD0>: 100%|██████████| 190/190 [00:04<00:00, 40.30 Samples/s]                    \n",
      "Executing Pipeline:   0%|          | 0/225 [00:00<?, ? Samples/s]"
     ]
    },
    {
     "name": "stdout",
     "output_type": "stream",
     "text": [
      "Initialised with 175 image(s) found.\n",
      "Output directory set to image_data2/train/47/output."
     ]
    },
    {
     "name": "stderr",
     "output_type": "stream",
     "text": [
      "Processing <PIL.Image.Image image mode=RGB size=375x480 at 0x7F6160A7B4E0>: 100%|██████████| 225/225 [00:05<00:00, 42.25 Samples/s]                   \n",
      "Executing Pipeline:   0%|          | 0/275 [00:00<?, ? Samples/s]"
     ]
    },
    {
     "name": "stdout",
     "output_type": "stream",
     "text": [
      "Initialised with 125 image(s) found.\n",
      "Output directory set to image_data2/train/48/output."
     ]
    },
    {
     "name": "stderr",
     "output_type": "stream",
     "text": [
      "Processing <PIL.Image.Image image mode=RGB size=596x589 at 0x7F612AF34D30>: 100%|██████████| 275/275 [00:07<00:00, 39.10 Samples/s]                    \n",
      "Executing Pipeline:   0%|          | 0/276 [00:00<?, ? Samples/s]"
     ]
    },
    {
     "name": "stdout",
     "output_type": "stream",
     "text": [
      "Initialised with 124 image(s) found.\n",
      "Output directory set to image_data2/train/49/output."
     ]
    },
    {
     "name": "stderr",
     "output_type": "stream",
     "text": [
      "Processing <PIL.Image.Image image mode=RGB size=640x640 at 0x7F6150318C88>: 100%|██████████| 276/276 [00:06<00:00, 40.47 Samples/s]   \n",
      "Executing Pipeline:   0%|          | 0/257 [00:00<?, ? Samples/s]"
     ]
    },
    {
     "name": "stdout",
     "output_type": "stream",
     "text": [
      "Initialised with 143 image(s) found.\n",
      "Output directory set to image_data2/train/50/output."
     ]
    },
    {
     "name": "stderr",
     "output_type": "stream",
     "text": [
      "Processing <PIL.Image.Image image mode=RGB size=800x800 at 0x7F61601413C8>: 100%|██████████| 257/257 [00:05<00:00, 49.47 Samples/s]                   \n",
      "Executing Pipeline:   0%|          | 0/195 [00:00<?, ? Samples/s]"
     ]
    },
    {
     "name": "stdout",
     "output_type": "stream",
     "text": [
      "Initialised with 205 image(s) found.\n",
      "Output directory set to image_data2/train/51/output."
     ]
    },
    {
     "name": "stderr",
     "output_type": "stream",
     "text": [
      "Processing <PIL.Image.Image image mode=RGB size=853x1280 at 0x7F612AF10128>: 100%|██████████| 195/195 [00:04<00:00, 42.53 Samples/s]                  \n",
      "Executing Pipeline:   0%|          | 0/245 [00:00<?, ? Samples/s]"
     ]
    },
    {
     "name": "stdout",
     "output_type": "stream",
     "text": [
      "Initialised with 155 image(s) found.\n",
      "Output directory set to image_data2/train/52/output."
     ]
    },
    {
     "name": "stderr",
     "output_type": "stream",
     "text": [
      "Processing <PIL.Image.Image image mode=RGB size=225x225 at 0x7F61503D16A0>: 100%|██████████| 245/245 [00:04<00:00, 54.37 Samples/s]                   \n",
      "Executing Pipeline:   0%|          | 0/218 [00:00<?, ? Samples/s]"
     ]
    },
    {
     "name": "stdout",
     "output_type": "stream",
     "text": [
      "Initialised with 182 image(s) found.\n",
      "Output directory set to image_data2/train/53/output."
     ]
    },
    {
     "name": "stderr",
     "output_type": "stream",
     "text": [
      "Processing <PIL.Image.Image image mode=RGB size=853x1280 at 0x7F612855C400>: 100%|██████████| 218/218 [00:04<00:00, 51.01 Samples/s]                   \n",
      "Executing Pipeline:   0%|          | 0/229 [00:00<?, ? Samples/s]"
     ]
    },
    {
     "name": "stdout",
     "output_type": "stream",
     "text": [
      "Initialised with 171 image(s) found.\n",
      "Output directory set to image_data2/train/54/output."
     ]
    },
    {
     "name": "stderr",
     "output_type": "stream",
     "text": [
      "Processing <PIL.Image.Image image mode=RGB size=853x1280 at 0x7F6160A25CF8>: 100%|██████████| 229/229 [00:04<00:00, 46.74 Samples/s]                   \n",
      "Executing Pipeline:   0%|          | 0/242 [00:00<?, ? Samples/s]"
     ]
    },
    {
     "name": "stdout",
     "output_type": "stream",
     "text": [
      "Initialised with 158 image(s) found.\n",
      "Output directory set to image_data2/train/55/output."
     ]
    },
    {
     "name": "stderr",
     "output_type": "stream",
     "text": [
      "Processing <PIL.Image.Image image mode=RGB size=300x225 at 0x7F610F1980F0>: 100%|██████████| 242/242 [00:03<00:00, 67.26 Samples/s]                  \n",
      "Executing Pipeline:   0%|          | 0/180 [00:00<?, ? Samples/s]"
     ]
    },
    {
     "name": "stdout",
     "output_type": "stream",
     "text": [
      "Initialised with 220 image(s) found.\n",
      "Output directory set to image_data2/train/56/output."
     ]
    },
    {
     "name": "stderr",
     "output_type": "stream",
     "text": [
      "Processing <PIL.Image.Image image mode=RGB size=1280x960 at 0x7F6128669748>: 100%|██████████| 180/180 [00:04<00:00, 37.75 Samples/s]                    \n",
      "Executing Pipeline:   0%|          | 0/272 [00:00<?, ? Samples/s]"
     ]
    },
    {
     "name": "stdout",
     "output_type": "stream",
     "text": [
      "Initialised with 128 image(s) found.\n",
      "Output directory set to image_data2/train/57/output."
     ]
    },
    {
     "name": "stderr",
     "output_type": "stream",
     "text": [
      "Processing <PIL.Image.Image image mode=RGB size=800x1186 at 0x7F6160141400>: 100%|██████████| 272/272 [00:06<00:00, 39.29 Samples/s]                  \n",
      "Executing Pipeline:   0%|          | 0/297 [00:00<?, ? Samples/s]"
     ]
    },
    {
     "name": "stdout",
     "output_type": "stream",
     "text": [
      "Initialised with 103 image(s) found.\n",
      "Output directory set to image_data2/train/58/output."
     ]
    },
    {
     "name": "stderr",
     "output_type": "stream",
     "text": [
      "Processing <PIL.Image.Image image mode=RGB size=1280x851 at 0x7F61503D1668>: 100%|██████████| 297/297 [00:07<00:00, 41.87 Samples/s]                   \n",
      "Executing Pipeline:   0%|          | 0/347 [00:00<?, ? Samples/s]"
     ]
    },
    {
     "name": "stdout",
     "output_type": "stream",
     "text": [
      "Initialised with 53 image(s) found.\n",
      "Output directory set to image_data2/train/59/output."
     ]
    },
    {
     "name": "stderr",
     "output_type": "stream",
     "text": [
      "Processing <PIL.Image.Image image mode=RGB size=1080x715 at 0x7F6160A25B70>: 100%|██████████| 347/347 [00:06<00:00, 51.54 Samples/s]                   \n",
      "Executing Pipeline:   0%|          | 0/250 [00:00<?, ? Samples/s]"
     ]
    },
    {
     "name": "stdout",
     "output_type": "stream",
     "text": [
      "Initialised with 150 image(s) found.\n",
      "Output directory set to image_data2/train/60/output."
     ]
    },
    {
     "name": "stderr",
     "output_type": "stream",
     "text": [
      "Processing <PIL.Image.Image image mode=RGB size=400x600 at 0x7F6150318B00>: 100%|██████████| 250/250 [00:05<00:00, 49.86 Samples/s]   \n",
      "Executing Pipeline:   0%|          | 0/211 [00:00<?, ? Samples/s]"
     ]
    },
    {
     "name": "stdout",
     "output_type": "stream",
     "text": [
      "Initialised with 189 image(s) found.\n",
      "Output directory set to image_data2/train/61/output."
     ]
    },
    {
     "name": "stderr",
     "output_type": "stream",
     "text": [
      "Processing <PIL.Image.Image image mode=RGB size=960x1280 at 0x7F612855CC88>: 100%|██████████| 211/211 [00:04<00:00, 43.57 Samples/s]                 \n",
      "Executing Pipeline:   0%|          | 0/304 [00:00<?, ? Samples/s]"
     ]
    },
    {
     "name": "stdout",
     "output_type": "stream",
     "text": [
      "Initialised with 96 image(s) found.\n",
      "Output directory set to image_data2/train/62/output."
     ]
    },
    {
     "name": "stderr",
     "output_type": "stream",
     "text": [
      "Processing <PIL.Image.Image image mode=RGB size=737x822 at 0x7F61606F7AC8>: 100%|██████████| 304/304 [00:06<00:00, 46.96 Samples/s]                   \n",
      "Executing Pipeline:   0%|          | 0/327 [00:00<?, ? Samples/s]"
     ]
    },
    {
     "name": "stdout",
     "output_type": "stream",
     "text": [
      "Initialised with 73 image(s) found.\n",
      "Output directory set to image_data2/train/63/output."
     ]
    },
    {
     "name": "stderr",
     "output_type": "stream",
     "text": [
      "Processing <PIL.Image.Image image mode=RGB size=690x920 at 0x7F616011C160>: 100%|██████████| 327/327 [00:06<00:00, 49.22 Samples/s]                   \n",
      "Executing Pipeline:   0%|          | 0/285 [00:00<?, ? Samples/s]"
     ]
    },
    {
     "name": "stdout",
     "output_type": "stream",
     "text": [
      "Initialised with 115 image(s) found.\n",
      "Output directory set to image_data2/train/64/output."
     ]
    },
    {
     "name": "stderr",
     "output_type": "stream",
     "text": [
      "Processing <PIL.Image.Image image mode=RGB size=908x992 at 0x7F6160ABD320>: 100%|██████████| 285/285 [00:06<00:00, 41.89 Samples/s]                    \n",
      "Executing Pipeline:   0%|          | 0/201 [00:00<?, ? Samples/s]"
     ]
    },
    {
     "name": "stdout",
     "output_type": "stream",
     "text": [
      "Initialised with 199 image(s) found.\n",
      "Output directory set to image_data2/train/65/output."
     ]
    },
    {
     "name": "stderr",
     "output_type": "stream",
     "text": [
      "Processing <PIL.Image.Image image mode=RGB size=1080x1080 at 0x7F61601231D0>: 100%|██████████| 201/201 [00:04<00:00, 41.17 Samples/s]                \n",
      "Executing Pipeline:   0%|          | 0/230 [00:00<?, ? Samples/s]"
     ]
    },
    {
     "name": "stdout",
     "output_type": "stream",
     "text": [
      "Initialised with 170 image(s) found.\n",
      "Output directory set to image_data2/train/66/output."
     ]
    },
    {
     "name": "stderr",
     "output_type": "stream",
     "text": [
      "Processing <PIL.Image.Image image mode=RGB size=900x962 at 0x7F6150318A20>: 100%|██████████| 230/230 [00:04<00:00, 52.72 Samples/s]                    \n",
      "Executing Pipeline:   0%|          | 0/162 [00:00<?, ? Samples/s]"
     ]
    },
    {
     "name": "stdout",
     "output_type": "stream",
     "text": [
      "Initialised with 238 image(s) found.\n",
      "Output directory set to image_data2/train/67/output."
     ]
    },
    {
     "name": "stderr",
     "output_type": "stream",
     "text": [
      "Processing <PIL.Image.Image image mode=RGB size=1280x1090 at 0x7F6162CB3B38>: 100%|██████████| 162/162 [00:03<00:00, 43.66 Samples/s]\n",
      "Executing Pipeline:   0%|          | 0/219 [00:00<?, ? Samples/s]"
     ]
    },
    {
     "name": "stdout",
     "output_type": "stream",
     "text": [
      "Initialised with 181 image(s) found.\n",
      "Output directory set to image_data2/train/68/output."
     ]
    },
    {
     "name": "stderr",
     "output_type": "stream",
     "text": [
      "Processing <PIL.Image.Image image mode=RGB size=742x889 at 0x7F6160BC2E48>: 100%|██████████| 219/219 [00:04<00:00, 44.04 Samples/s]                   \n",
      "Executing Pipeline:   0%|          | 0/309 [00:00<?, ? Samples/s]"
     ]
    },
    {
     "name": "stdout",
     "output_type": "stream",
     "text": [
      "Initialised with 91 image(s) found.\n",
      "Output directory set to image_data2/train/69/output."
     ]
    },
    {
     "name": "stderr",
     "output_type": "stream",
     "text": [
      "Processing <PIL.Image.Image image mode=RGB size=700x500 at 0x7F616011C710>: 100%|██████████| 309/309 [00:04<00:00, 64.46 Samples/s]                   \n",
      "Executing Pipeline:   0%|          | 0/197 [00:00<?, ? Samples/s]"
     ]
    },
    {
     "name": "stdout",
     "output_type": "stream",
     "text": [
      "Initialised with 203 image(s) found.\n",
      "Output directory set to image_data2/train/70/output."
     ]
    },
    {
     "name": "stderr",
     "output_type": "stream",
     "text": [
      "Processing <PIL.Image.Image image mode=RGB size=400x400 at 0x7F6160123DA0>: 100%|██████████| 197/197 [00:04<00:00, 42.72 Samples/s]                  \n",
      "Executing Pipeline:   0%|          | 0/240 [00:00<?, ? Samples/s]"
     ]
    },
    {
     "name": "stdout",
     "output_type": "stream",
     "text": [
      "Initialised with 160 image(s) found.\n",
      "Output directory set to image_data2/train/71/output."
     ]
    },
    {
     "name": "stderr",
     "output_type": "stream",
     "text": [
      "Processing <PIL.Image.Image image mode=RGB size=400x412 at 0x7F6162CB3208>: 100%|██████████| 240/240 [00:04<00:00, 50.97 Samples/s]                   \n",
      "Executing Pipeline:   0%|          | 0/195 [00:00<?, ? Samples/s]"
     ]
    },
    {
     "name": "stdout",
     "output_type": "stream",
     "text": [
      "Initialised with 205 image(s) found.\n",
      "Output directory set to image_data2/train/72/output."
     ]
    },
    {
     "name": "stderr",
     "output_type": "stream",
     "text": [
      "Processing <PIL.Image.Image image mode=RGB size=960x1280 at 0x7F61500DF588>: 100%|██████████| 195/195 [00:05<00:00, 37.59 Samples/s]                  \n",
      "Executing Pipeline:   0%|          | 0/212 [00:00<?, ? Samples/s]"
     ]
    },
    {
     "name": "stdout",
     "output_type": "stream",
     "text": [
      "Initialised with 188 image(s) found.\n",
      "Output directory set to image_data2/train/73/output."
     ]
    },
    {
     "name": "stderr",
     "output_type": "stream",
     "text": [
      "Processing <PIL.Image.Image image mode=RGB size=1280x960 at 0x7F6128539F28>: 100%|██████████| 212/212 [00:03<00:00, 58.86 Samples/s]                 \n",
      "Executing Pipeline:   0%|          | 0/337 [00:00<?, ? Samples/s]"
     ]
    },
    {
     "name": "stdout",
     "output_type": "stream",
     "text": [
      "Initialised with 63 image(s) found.\n",
      "Output directory set to image_data2/train/74/output."
     ]
    },
    {
     "name": "stderr",
     "output_type": "stream",
     "text": [
      "Processing <PIL.Image.Image image mode=RGB size=800x1200 at 0x7F6160A25160>: 100%|██████████| 337/337 [00:07<00:00, 44.00 Samples/s]                   \n",
      "Executing Pipeline:   0%|          | 0/189 [00:00<?, ? Samples/s]"
     ]
    },
    {
     "name": "stdout",
     "output_type": "stream",
     "text": [
      "Initialised with 211 image(s) found.\n",
      "Output directory set to image_data2/train/75/output."
     ]
    },
    {
     "name": "stderr",
     "output_type": "stream",
     "text": [
      "Processing <PIL.JpegImagePlugin.JpegImageFile image mode=RGB size=1280x947 at 0x7F615014A438>: 100%|██████████| 189/189 [00:04<00:00, 40.67 Samples/s] \n",
      "Executing Pipeline:   0%|          | 0/179 [00:00<?, ? Samples/s]"
     ]
    },
    {
     "name": "stdout",
     "output_type": "stream",
     "text": [
      "Initialised with 221 image(s) found.\n",
      "Output directory set to image_data2/train/76/output."
     ]
    },
    {
     "name": "stderr",
     "output_type": "stream",
     "text": [
      "Processing <PIL.Image.Image image mode=RGB size=800x308 at 0x7F6160A7B1D0>: 100%|██████████| 179/179 [00:03<00:00, 45.83 Samples/s]                  \n",
      "Executing Pipeline:   0%|          | 0/175 [00:00<?, ? Samples/s]"
     ]
    },
    {
     "name": "stdout",
     "output_type": "stream",
     "text": [
      "Initialised with 225 image(s) found.\n",
      "Output directory set to image_data2/train/77/output."
     ]
    },
    {
     "name": "stderr",
     "output_type": "stream",
     "text": [
      "Processing <PIL.Image.Image image mode=RGB size=1280x1280 at 0x7F61502EE320>: 100%|██████████| 175/175 [00:04<00:00, 41.34 Samples/s]                 \n",
      "Executing Pipeline:   0%|          | 0/242 [00:00<?, ? Samples/s]"
     ]
    },
    {
     "name": "stdout",
     "output_type": "stream",
     "text": [
      "Initialised with 158 image(s) found.\n",
      "Output directory set to image_data2/train/78/output."
     ]
    },
    {
     "name": "stderr",
     "output_type": "stream",
     "text": [
      "Processing <PIL.Image.Image image mode=RGB size=1024x768 at 0x7F6128669DA0>: 100%|██████████| 242/242 [00:03<00:00, 60.83 Samples/s]                  \n",
      "Executing Pipeline:   0%|          | 0/221 [00:00<?, ? Samples/s]"
     ]
    },
    {
     "name": "stdout",
     "output_type": "stream",
     "text": [
      "Initialised with 179 image(s) found.\n",
      "Output directory set to image_data2/train/79/output."
     ]
    },
    {
     "name": "stderr",
     "output_type": "stream",
     "text": [
      "Processing <PIL.Image.Image image mode=RGB size=240x352 at 0x7F6128669358>: 100%|██████████| 221/221 [00:05<00:00, 39.45 Samples/s]                   \n",
      "Executing Pipeline:   0%|          | 0/281 [00:00<?, ? Samples/s]"
     ]
    },
    {
     "name": "stdout",
     "output_type": "stream",
     "text": [
      "Initialised with 119 image(s) found.\n",
      "Output directory set to image_data2/train/80/output."
     ]
    },
    {
     "name": "stderr",
     "output_type": "stream",
     "text": [
      "Processing <PIL.Image.Image image mode=RGB size=853x1280 at 0x7F6160123400>: 100%|██████████| 281/281 [00:05<00:00, 52.42 Samples/s]                 \n",
      "Executing Pipeline:   0%|          | 0/306 [00:00<?, ? Samples/s]"
     ]
    },
    {
     "name": "stdout",
     "output_type": "stream",
     "text": [
      "Initialised with 94 image(s) found.\n",
      "Output directory set to image_data2/train/81/output."
     ]
    },
    {
     "name": "stderr",
     "output_type": "stream",
     "text": [
      "Processing <PIL.Image.Image image mode=RGB size=1080x1080 at 0x7F613C0E3F98>: 100%|██████████| 306/306 [00:06<00:00, 43.90 Samples/s]                  \n",
      "Executing Pipeline:   0%|          | 0/306 [00:00<?, ? Samples/s]"
     ]
    },
    {
     "name": "stdout",
     "output_type": "stream",
     "text": [
      "Initialised with 94 image(s) found.\n",
      "Output directory set to image_data2/train/82/output."
     ]
    },
    {
     "name": "stderr",
     "output_type": "stream",
     "text": [
      "Processing <PIL.Image.Image image mode=RGB size=889x767 at 0x7F6150318978>: 100%|██████████| 306/306 [00:07<00:00, 40.49 Samples/s]                    \n",
      "Executing Pipeline:   0%|          | 0/242 [00:00<?, ? Samples/s]"
     ]
    },
    {
     "name": "stdout",
     "output_type": "stream",
     "text": [
      "Initialised with 158 image(s) found.\n",
      "Output directory set to image_data2/train/83/output."
     ]
    },
    {
     "name": "stderr",
     "output_type": "stream",
     "text": [
      "Processing <PIL.Image.Image image mode=RGB size=234x400 at 0x7F6162CB3CF8>: 100%|██████████| 242/242 [00:04<00:00, 59.18 Samples/s]                  \n",
      "Executing Pipeline:   0%|          | 0/266 [00:00<?, ? Samples/s]"
     ]
    },
    {
     "name": "stdout",
     "output_type": "stream",
     "text": [
      "Initialised with 134 image(s) found.\n",
      "Output directory set to image_data2/train/84/output."
     ]
    },
    {
     "name": "stderr",
     "output_type": "stream",
     "text": [
      "Processing <PIL.Image.Image image mode=RGB size=904x1280 at 0x7F612A39C6D8>: 100%|██████████| 266/266 [00:07<00:00, 37.96 Samples/s]                  \n",
      "Executing Pipeline:   0%|          | 0/264 [00:00<?, ? Samples/s]"
     ]
    },
    {
     "name": "stdout",
     "output_type": "stream",
     "text": [
      "Initialised with 136 image(s) found.\n",
      "Output directory set to image_data2/train/85/output."
     ]
    },
    {
     "name": "stderr",
     "output_type": "stream",
     "text": [
      "Processing <PIL.Image.Image image mode=RGB size=800x600 at 0x7F610F1987B8>: 100%|██████████| 264/264 [00:05<00:00, 44.99 Samples/s]                    \n",
      "Executing Pipeline:   0%|          | 0/188 [00:00<?, ? Samples/s]"
     ]
    },
    {
     "name": "stdout",
     "output_type": "stream",
     "text": [
      "Initialised with 212 image(s) found.\n",
      "Output directory set to image_data2/train/86/output."
     ]
    },
    {
     "name": "stderr",
     "output_type": "stream",
     "text": [
      "Processing <PIL.Image.Image image mode=RGB size=1200x800 at 0x7F612A680048>: 100%|██████████| 188/188 [00:04<00:00, 41.33 Samples/s]                  \n",
      "Executing Pipeline:   0%|          | 0/327 [00:00<?, ? Samples/s]"
     ]
    },
    {
     "name": "stdout",
     "output_type": "stream",
     "text": [
      "Initialised with 73 image(s) found.\n",
      "Output directory set to image_data2/train/87/output."
     ]
    },
    {
     "name": "stderr",
     "output_type": "stream",
     "text": [
      "Processing <PIL.Image.Image image mode=RGB size=800x1200 at 0x7F61502EEFD0>: 100%|██████████| 327/327 [00:07<00:00, 44.06 Samples/s]                  \n",
      "Executing Pipeline:   0%|          | 0/243 [00:00<?, ? Samples/s]"
     ]
    },
    {
     "name": "stdout",
     "output_type": "stream",
     "text": [
      "Initialised with 157 image(s) found.\n",
      "Output directory set to image_data2/train/88/output."
     ]
    },
    {
     "name": "stderr",
     "output_type": "stream",
     "text": [
      "Processing <PIL.Image.Image image mode=RGB size=800x800 at 0x7F6160B9C278>: 100%|██████████| 243/243 [00:04<00:00, 51.28 Samples/s]                    \n",
      "Executing Pipeline:   0%|          | 0/195 [00:00<?, ? Samples/s]"
     ]
    },
    {
     "name": "stdout",
     "output_type": "stream",
     "text": [
      "Initialised with 205 image(s) found.\n",
      "Output directory set to image_data2/train/89/output."
     ]
    },
    {
     "name": "stderr",
     "output_type": "stream",
     "text": [
      "Processing <PIL.Image.Image image mode=RGB size=960x960 at 0x7F613C0AC828>: 100%|██████████| 195/195 [00:04<00:00, 44.67 Samples/s]                    \n",
      "Executing Pipeline:   0%|          | 0/291 [00:00<?, ? Samples/s]"
     ]
    },
    {
     "name": "stdout",
     "output_type": "stream",
     "text": [
      "Initialised with 109 image(s) found.\n",
      "Output directory set to image_data2/train/90/output."
     ]
    },
    {
     "name": "stderr",
     "output_type": "stream",
     "text": [
      "Processing <PIL.Image.Image image mode=RGB size=851x1280 at 0x7F610F1984E0>: 100%|██████████| 291/291 [00:04<00:00, 58.40 Samples/s]                  \n",
      "Executing Pipeline:   0%|          | 0/327 [00:00<?, ? Samples/s]"
     ]
    },
    {
     "name": "stdout",
     "output_type": "stream",
     "text": [
      "Initialised with 73 image(s) found.\n",
      "Output directory set to image_data2/train/91/output."
     ]
    },
    {
     "name": "stderr",
     "output_type": "stream",
     "text": [
      "Processing <PIL.Image.Image image mode=RGB size=1280x960 at 0x7F6160AB9FD0>: 100%|██████████| 327/327 [00:06<00:00, 52.08 Samples/s]                   \n",
      "Executing Pipeline:   0%|          | 0/304 [00:00<?, ? Samples/s]"
     ]
    },
    {
     "name": "stdout",
     "output_type": "stream",
     "text": [
      "Initialised with 96 image(s) found.\n",
      "Output directory set to image_data2/train/92/output."
     ]
    },
    {
     "name": "stderr",
     "output_type": "stream",
     "text": [
      "Processing <PIL.Image.Image image mode=RGB size=764x1280 at 0x7F615014A2E8>: 100%|██████████| 304/304 [00:04<00:00, 62.61 Samples/s]                  \n",
      "Executing Pipeline:   0%|          | 0/295 [00:00<?, ? Samples/s]"
     ]
    },
    {
     "name": "stdout",
     "output_type": "stream",
     "text": [
      "Initialised with 105 image(s) found.\n",
      "Output directory set to image_data2/train/93/output."
     ]
    },
    {
     "name": "stderr",
     "output_type": "stream",
     "text": [
      "Processing <PIL.Image.Image image mode=RGB size=460x460 at 0x7F6150183780>: 100%|██████████| 295/295 [00:05<00:00, 58.23 Samples/s]                   \n",
      "Executing Pipeline:   0%|          | 0/298 [00:00<?, ? Samples/s]"
     ]
    },
    {
     "name": "stdout",
     "output_type": "stream",
     "text": [
      "Initialised with 102 image(s) found.\n",
      "Output directory set to image_data2/train/94/output."
     ]
    },
    {
     "name": "stderr",
     "output_type": "stream",
     "text": [
      "Processing <PIL.Image.Image image mode=RGB size=700x700 at 0x7F61286698D0>: 100%|██████████| 298/298 [00:04<00:00, 61.28 Samples/s]                    \n",
      "Executing Pipeline:   0%|          | 0/231 [00:00<?, ? Samples/s]"
     ]
    },
    {
     "name": "stdout",
     "output_type": "stream",
     "text": [
      "Initialised with 169 image(s) found.\n",
      "Output directory set to image_data2/train/95/output."
     ]
    },
    {
     "name": "stderr",
     "output_type": "stream",
     "text": [
      "Processing <PIL.Image.Image image mode=RGB size=853x1066 at 0x7F6160BC2E80>: 100%|██████████| 231/231 [00:05<00:00, 43.02 Samples/s]                  \n",
      "Executing Pipeline:   0%|          | 0/249 [00:00<?, ? Samples/s]"
     ]
    },
    {
     "name": "stdout",
     "output_type": "stream",
     "text": [
      "Initialised with 151 image(s) found.\n",
      "Output directory set to image_data2/train/96/output."
     ]
    },
    {
     "name": "stderr",
     "output_type": "stream",
     "text": [
      "Processing <PIL.Image.Image image mode=RGB size=515x1024 at 0x7F612900E5F8>: 100%|██████████| 249/249 [00:03<00:00, 63.95 Samples/s]                 \n",
      "Executing Pipeline:   0%|          | 0/256 [00:00<?, ? Samples/s]"
     ]
    },
    {
     "name": "stdout",
     "output_type": "stream",
     "text": [
      "Initialised with 144 image(s) found.\n",
      "Output directory set to image_data2/train/97/output."
     ]
    },
    {
     "name": "stderr",
     "output_type": "stream",
     "text": [
      "Processing <PIL.Image.Image image mode=RGB size=800x800 at 0x7F61503D1C18>: 100%|██████████| 256/256 [00:04<00:00, 59.05 Samples/s]                    \n",
      "Executing Pipeline:   0%|          | 0/251 [00:00<?, ? Samples/s]"
     ]
    },
    {
     "name": "stdout",
     "output_type": "stream",
     "text": [
      "Initialised with 149 image(s) found.\n",
      "Output directory set to image_data2/train/98/output."
     ]
    },
    {
     "name": "stderr",
     "output_type": "stream",
     "text": [
      "Processing <PIL.Image.Image image mode=RGB size=1079x1080 at 0x7F61601231D0>: 100%|██████████| 251/251 [00:05<00:00, 42.10 Samples/s]                  \n",
      "Executing Pipeline:   0%|          | 0/170 [00:00<?, ? Samples/s]"
     ]
    },
    {
     "name": "stdout",
     "output_type": "stream",
     "text": [
      "Initialised with 230 image(s) found.\n",
      "Output directory set to image_data2/train/99/output."
     ]
    },
    {
     "name": "stderr",
     "output_type": "stream",
     "text": [
      "Processing <PIL.Image.Image image mode=RGB size=1280x851 at 0x7F612A6636A0>: 100%|██████████| 170/170 [00:04<00:00, 39.37 Samples/s] \n"
     ]
    }
   ],
   "source": [
    "import Augmentor\n",
    "from Augmentor import Pipeline\n",
    "\n",
    "def augmentation(path, n):\n",
    "    p = Augmentor.Pipeline(path) # ensure you press enter after this, don't just c&p this code.\n",
    "    Pipeline.set_seed(100)\n",
    "    p.rotate(probability=0.3, max_left_rotation=3, max_right_rotation=3)\n",
    "    p.random_distortion(probability=0.9, grid_width=20, grid_height=20, magnitude=2)\n",
    "    p.random_erasing(probability=0.5, rectangle_area=0.2)\n",
    "    p.zoom(probability=0.5, min_factor=1.1, max_factor=1.5)\n",
    "    p.sample(n)\n",
    "\n",
    "path = output_train_path\n",
    "\n",
    "for i in range(0,100):\n",
    "    augmentation(path+str(i)+'/', 400 - len(categories_train[i]))"
   ]
  },
  {
   "cell_type": "markdown",
   "metadata": {},
   "source": [
    "# Modelling"
   ]
  },
  {
   "cell_type": "code",
   "execution_count": 4,
   "metadata": {},
   "outputs": [],
   "source": [
    "import os\n",
    "os.environ['CUDA_VISIBLE_DEVICES'] = '3'\n",
    "os.environ['CUDA_DEVICE_ORDER']='PCI_BUS_ID'\n",
    "\n",
    "# Standard data science libraries\n",
    "import psutil\n",
    "import humanize\n",
    "import os\n",
    "from IPython.display import display_html\n",
    "\n",
    "# This Python 3 environment comes with many helpful analytics libraries installed\n",
    "# It is defined by the kaggle/python docker image: https://github.com/kaggle/docker-python\n",
    "# For example, here's several helpful packages to load in \n",
    "\n",
    "import numpy as np # linear algebra\n",
    "import pandas as pd # data processing, CSV file I/O (e.g. pd.read_csv)\n",
    "\n",
    "# Input data files are available in the \"../input/\" directory.\n",
    "# For example, running this (by clicking run or pressing Shift+Enter) will list the files in the input directory\n",
    "\n",
    "dataDirectory= \"\" "
   ]
  },
  {
   "cell_type": "code",
   "execution_count": 15,
   "metadata": {},
   "outputs": [],
   "source": [
    "import numpy as np\n",
    "import keras\n",
    "from keras import backend as K\n",
    "from keras.models import Sequential\n",
    "from keras.models import Model\n",
    "from keras.applications.resnet50 import ResNet50 #224x224\n",
    "from sklearn.model_selection import train_test_split\n",
    "from keras.layers import Activation\n",
    "from keras.layers.core import Dense, Flatten\n",
    "from keras.optimizers import RMSprop\n",
    "from keras.metrics import categorical_crossentropy\n",
    "from keras.preprocessing.image import ImageDataGenerator\n",
    "from keras.layers.normalization import BatchNormalization\n",
    "from keras.layers.core import Dropout\n",
    "from keras.layers.convolutional import *\n",
    "from keras.callbacks import ModelCheckpoint\n",
    "from keras.applications.inception_v3 import InceptionV3\n",
    "from keras.applications.inception_v3 import preprocess_input\n",
    "from keras.applications.inception_v3 import decode_predictions\n",
    "from sklearn.metrics import confusion_matrix\n",
    "from sklearn.metrics import average_precision_score\n",
    "from sklearn.metrics import recall_score\n",
    "from sklearn.metrics import precision_score\n",
    "from sklearn.metrics import accuracy_score\n",
    "from sklearn.metrics import classification_report\n",
    "from keras.models import model_from_json\n",
    "import itertools\n",
    "import matplotlib.pyplot as plt\n",
    "import time\n",
    "import pandas as pd"
   ]
  },
  {
   "cell_type": "code",
   "execution_count": 16,
   "metadata": {},
   "outputs": [],
   "source": [
    "train_path = dataDirectory+'image_data2/train'\n",
    "val_path = dataDirectory+'image_data2/val'\n",
    "test_path  = dataDirectory+'test/test'\n",
    "# print(os.listdir(train_path))\n",
    "# print(os.listdir(test_path))"
   ]
  },
  {
   "cell_type": "code",
   "execution_count": 17,
   "metadata": {},
   "outputs": [],
   "source": [
    "train_datagen = ImageDataGenerator(\n",
    "        rotation_range=40,\n",
    "        width_shift_range=0.2,\n",
    "        height_shift_range=0.2,\n",
    "        shear_range=0.2,\n",
    "        zoom_range=0.2,\n",
    "        fill_mode='nearest') # set validation split"
   ]
  },
  {
   "cell_type": "code",
   "execution_count": 18,
   "metadata": {},
   "outputs": [
    {
     "name": "stdout",
     "output_type": "stream",
     "text": [
      "Found 40000 images belonging to 100 classes.\n",
      "Found 1686 images belonging to 100 classes.\n",
      "Found 16858 images belonging to 1 classes.\n"
     ]
    }
   ],
   "source": [
    "batchSize=32\n",
    "\n",
    "selectedClasses = [str(i) for i in range(100)]\n",
    "\n",
    "train_generator = train_datagen.flow_from_directory(\n",
    "    train_path,\n",
    "    target_size=(224, 224),\n",
    "    batch_size=batchSize,\n",
    "    classes=selectedClasses,\n",
    "    subset='training') # set as training data\n",
    "\n",
    "validation_generator = ImageDataGenerator().flow_from_directory(\n",
    "    val_path, # same directory as training data\n",
    "    target_size=(224, 224),\n",
    "    batch_size=batchSize,\n",
    "    classes=selectedClasses) # set as validation data\n",
    "\n",
    "test_generator = ImageDataGenerator().flow_from_directory(\n",
    "    'test/', \n",
    "    target_size=(224,224), \n",
    "    classes=None,\n",
    "    shuffle= False,\n",
    "    batch_size = batchSize)# set as test data"
   ]
  },
  {
   "cell_type": "code",
   "execution_count": 19,
   "metadata": {},
   "outputs": [
    {
     "name": "stdout",
     "output_type": "stream",
     "text": [
      "WARNING:tensorflow:From /usr/local/lib/python3.6/dist-packages/keras/backend/tensorflow_backend.py:3445: calling dropout (from tensorflow.python.ops.nn_ops) with keep_prob is deprecated and will be removed in a future version.\n",
      "Instructions for updating:\n",
      "Please use `rate` instead of `keep_prob`. Rate should be set to `rate = 1 - keep_prob`.\n",
      "__________________________________________________________________________________________________\n",
      "Layer (type)                    Output Shape         Param #     Connected to                     \n",
      "==================================================================================================\n",
      "input_1 (InputLayer)            (None, 224, 224, 3)  0                                            \n",
      "__________________________________________________________________________________________________\n",
      "conv1_pad (ZeroPadding2D)       (None, 230, 230, 3)  0           input_1[0][0]                    \n",
      "__________________________________________________________________________________________________\n",
      "conv1 (Conv2D)                  (None, 112, 112, 64) 9472        conv1_pad[0][0]                  \n",
      "__________________________________________________________________________________________________\n",
      "bn_conv1 (BatchNormalization)   (None, 112, 112, 64) 256         conv1[0][0]                      \n",
      "__________________________________________________________________________________________________\n",
      "activation_1 (Activation)       (None, 112, 112, 64) 0           bn_conv1[0][0]                   \n",
      "__________________________________________________________________________________________________\n",
      "pool1_pad (ZeroPadding2D)       (None, 114, 114, 64) 0           activation_1[0][0]               \n",
      "__________________________________________________________________________________________________\n",
      "max_pooling2d_1 (MaxPooling2D)  (None, 56, 56, 64)   0           pool1_pad[0][0]                  \n",
      "__________________________________________________________________________________________________\n",
      "res2a_branch2a (Conv2D)         (None, 56, 56, 64)   4160        max_pooling2d_1[0][0]            \n",
      "__________________________________________________________________________________________________\n",
      "bn2a_branch2a (BatchNormalizati (None, 56, 56, 64)   256         res2a_branch2a[0][0]             \n",
      "__________________________________________________________________________________________________\n",
      "activation_2 (Activation)       (None, 56, 56, 64)   0           bn2a_branch2a[0][0]              \n",
      "__________________________________________________________________________________________________\n",
      "res2a_branch2b (Conv2D)         (None, 56, 56, 64)   36928       activation_2[0][0]               \n",
      "__________________________________________________________________________________________________\n",
      "bn2a_branch2b (BatchNormalizati (None, 56, 56, 64)   256         res2a_branch2b[0][0]             \n",
      "__________________________________________________________________________________________________\n",
      "activation_3 (Activation)       (None, 56, 56, 64)   0           bn2a_branch2b[0][0]              \n",
      "__________________________________________________________________________________________________\n",
      "res2a_branch2c (Conv2D)         (None, 56, 56, 256)  16640       activation_3[0][0]               \n",
      "__________________________________________________________________________________________________\n",
      "res2a_branch1 (Conv2D)          (None, 56, 56, 256)  16640       max_pooling2d_1[0][0]            \n",
      "__________________________________________________________________________________________________\n",
      "bn2a_branch2c (BatchNormalizati (None, 56, 56, 256)  1024        res2a_branch2c[0][0]             \n",
      "__________________________________________________________________________________________________\n",
      "bn2a_branch1 (BatchNormalizatio (None, 56, 56, 256)  1024        res2a_branch1[0][0]              \n",
      "__________________________________________________________________________________________________\n",
      "add_1 (Add)                     (None, 56, 56, 256)  0           bn2a_branch2c[0][0]              \n",
      "                                                                 bn2a_branch1[0][0]               \n",
      "__________________________________________________________________________________________________\n",
      "activation_4 (Activation)       (None, 56, 56, 256)  0           add_1[0][0]                      \n",
      "__________________________________________________________________________________________________\n",
      "res2b_branch2a (Conv2D)         (None, 56, 56, 64)   16448       activation_4[0][0]               \n",
      "__________________________________________________________________________________________________\n",
      "bn2b_branch2a (BatchNormalizati (None, 56, 56, 64)   256         res2b_branch2a[0][0]             \n",
      "__________________________________________________________________________________________________\n",
      "activation_5 (Activation)       (None, 56, 56, 64)   0           bn2b_branch2a[0][0]              \n",
      "__________________________________________________________________________________________________\n",
      "res2b_branch2b (Conv2D)         (None, 56, 56, 64)   36928       activation_5[0][0]               \n",
      "__________________________________________________________________________________________________\n",
      "bn2b_branch2b (BatchNormalizati (None, 56, 56, 64)   256         res2b_branch2b[0][0]             \n",
      "__________________________________________________________________________________________________\n",
      "activation_6 (Activation)       (None, 56, 56, 64)   0           bn2b_branch2b[0][0]              \n",
      "__________________________________________________________________________________________________\n",
      "res2b_branch2c (Conv2D)         (None, 56, 56, 256)  16640       activation_6[0][0]               \n",
      "__________________________________________________________________________________________________\n",
      "bn2b_branch2c (BatchNormalizati (None, 56, 56, 256)  1024        res2b_branch2c[0][0]             \n",
      "__________________________________________________________________________________________________\n",
      "add_2 (Add)                     (None, 56, 56, 256)  0           bn2b_branch2c[0][0]              \n",
      "                                                                 activation_4[0][0]               \n",
      "__________________________________________________________________________________________________\n",
      "activation_7 (Activation)       (None, 56, 56, 256)  0           add_2[0][0]                      \n",
      "__________________________________________________________________________________________________\n",
      "res2c_branch2a (Conv2D)         (None, 56, 56, 64)   16448       activation_7[0][0]               \n",
      "__________________________________________________________________________________________________\n",
      "bn2c_branch2a (BatchNormalizati (None, 56, 56, 64)   256         res2c_branch2a[0][0]             \n",
      "__________________________________________________________________________________________________\n",
      "activation_8 (Activation)       (None, 56, 56, 64)   0           bn2c_branch2a[0][0]              \n",
      "__________________________________________________________________________________________________\n",
      "res2c_branch2b (Conv2D)         (None, 56, 56, 64)   36928       activation_8[0][0]               \n",
      "__________________________________________________________________________________________________\n",
      "bn2c_branch2b (BatchNormalizati (None, 56, 56, 64)   256         res2c_branch2b[0][0]             \n",
      "__________________________________________________________________________________________________\n",
      "activation_9 (Activation)       (None, 56, 56, 64)   0           bn2c_branch2b[0][0]              \n",
      "__________________________________________________________________________________________________\n",
      "res2c_branch2c (Conv2D)         (None, 56, 56, 256)  16640       activation_9[0][0]               \n",
      "__________________________________________________________________________________________________\n",
      "bn2c_branch2c (BatchNormalizati (None, 56, 56, 256)  1024        res2c_branch2c[0][0]             \n",
      "__________________________________________________________________________________________________\n",
      "add_3 (Add)                     (None, 56, 56, 256)  0           bn2c_branch2c[0][0]              \n",
      "                                                                 activation_7[0][0]               \n",
      "__________________________________________________________________________________________________\n",
      "activation_10 (Activation)      (None, 56, 56, 256)  0           add_3[0][0]                      \n",
      "__________________________________________________________________________________________________\n",
      "res3a_branch2a (Conv2D)         (None, 28, 28, 128)  32896       activation_10[0][0]              \n",
      "__________________________________________________________________________________________________\n",
      "bn3a_branch2a (BatchNormalizati (None, 28, 28, 128)  512         res3a_branch2a[0][0]             \n",
      "__________________________________________________________________________________________________\n",
      "activation_11 (Activation)      (None, 28, 28, 128)  0           bn3a_branch2a[0][0]              \n",
      "__________________________________________________________________________________________________\n",
      "res3a_branch2b (Conv2D)         (None, 28, 28, 128)  147584      activation_11[0][0]              \n",
      "__________________________________________________________________________________________________\n",
      "bn3a_branch2b (BatchNormalizati (None, 28, 28, 128)  512         res3a_branch2b[0][0]             \n",
      "__________________________________________________________________________________________________\n",
      "activation_12 (Activation)      (None, 28, 28, 128)  0           bn3a_branch2b[0][0]              \n",
      "__________________________________________________________________________________________________\n",
      "res3a_branch2c (Conv2D)         (None, 28, 28, 512)  66048       activation_12[0][0]              \n",
      "__________________________________________________________________________________________________\n",
      "res3a_branch1 (Conv2D)          (None, 28, 28, 512)  131584      activation_10[0][0]              \n",
      "__________________________________________________________________________________________________\n",
      "bn3a_branch2c (BatchNormalizati (None, 28, 28, 512)  2048        res3a_branch2c[0][0]             \n",
      "__________________________________________________________________________________________________\n",
      "bn3a_branch1 (BatchNormalizatio (None, 28, 28, 512)  2048        res3a_branch1[0][0]              \n",
      "__________________________________________________________________________________________________\n",
      "add_4 (Add)                     (None, 28, 28, 512)  0           bn3a_branch2c[0][0]              \n",
      "                                                                 bn3a_branch1[0][0]               \n",
      "__________________________________________________________________________________________________\n",
      "activation_13 (Activation)      (None, 28, 28, 512)  0           add_4[0][0]                      \n",
      "__________________________________________________________________________________________________\n",
      "res3b_branch2a (Conv2D)         (None, 28, 28, 128)  65664       activation_13[0][0]              \n",
      "__________________________________________________________________________________________________\n",
      "bn3b_branch2a (BatchNormalizati (None, 28, 28, 128)  512         res3b_branch2a[0][0]             \n",
      "__________________________________________________________________________________________________\n",
      "activation_14 (Activation)      (None, 28, 28, 128)  0           bn3b_branch2a[0][0]              \n",
      "__________________________________________________________________________________________________\n",
      "res3b_branch2b (Conv2D)         (None, 28, 28, 128)  147584      activation_14[0][0]              \n",
      "__________________________________________________________________________________________________\n",
      "bn3b_branch2b (BatchNormalizati (None, 28, 28, 128)  512         res3b_branch2b[0][0]             \n",
      "__________________________________________________________________________________________________\n",
      "activation_15 (Activation)      (None, 28, 28, 128)  0           bn3b_branch2b[0][0]              \n",
      "__________________________________________________________________________________________________\n",
      "res3b_branch2c (Conv2D)         (None, 28, 28, 512)  66048       activation_15[0][0]              \n",
      "__________________________________________________________________________________________________\n",
      "bn3b_branch2c (BatchNormalizati (None, 28, 28, 512)  2048        res3b_branch2c[0][0]             \n",
      "__________________________________________________________________________________________________\n",
      "add_5 (Add)                     (None, 28, 28, 512)  0           bn3b_branch2c[0][0]              \n",
      "                                                                 activation_13[0][0]              \n",
      "__________________________________________________________________________________________________\n",
      "activation_16 (Activation)      (None, 28, 28, 512)  0           add_5[0][0]                      \n",
      "__________________________________________________________________________________________________\n",
      "res3c_branch2a (Conv2D)         (None, 28, 28, 128)  65664       activation_16[0][0]              \n",
      "__________________________________________________________________________________________________\n",
      "bn3c_branch2a (BatchNormalizati (None, 28, 28, 128)  512         res3c_branch2a[0][0]             \n",
      "__________________________________________________________________________________________________\n",
      "activation_17 (Activation)      (None, 28, 28, 128)  0           bn3c_branch2a[0][0]              \n",
      "__________________________________________________________________________________________________\n",
      "res3c_branch2b (Conv2D)         (None, 28, 28, 128)  147584      activation_17[0][0]              \n",
      "__________________________________________________________________________________________________\n",
      "bn3c_branch2b (BatchNormalizati (None, 28, 28, 128)  512         res3c_branch2b[0][0]             \n",
      "__________________________________________________________________________________________________\n",
      "activation_18 (Activation)      (None, 28, 28, 128)  0           bn3c_branch2b[0][0]              \n",
      "__________________________________________________________________________________________________\n",
      "res3c_branch2c (Conv2D)         (None, 28, 28, 512)  66048       activation_18[0][0]              \n",
      "__________________________________________________________________________________________________\n",
      "bn3c_branch2c (BatchNormalizati (None, 28, 28, 512)  2048        res3c_branch2c[0][0]             \n",
      "__________________________________________________________________________________________________\n",
      "add_6 (Add)                     (None, 28, 28, 512)  0           bn3c_branch2c[0][0]              \n",
      "                                                                 activation_16[0][0]              \n",
      "__________________________________________________________________________________________________\n",
      "activation_19 (Activation)      (None, 28, 28, 512)  0           add_6[0][0]                      \n",
      "__________________________________________________________________________________________________\n",
      "res3d_branch2a (Conv2D)         (None, 28, 28, 128)  65664       activation_19[0][0]              \n",
      "__________________________________________________________________________________________________\n",
      "bn3d_branch2a (BatchNormalizati (None, 28, 28, 128)  512         res3d_branch2a[0][0]             \n",
      "__________________________________________________________________________________________________\n",
      "activation_20 (Activation)      (None, 28, 28, 128)  0           bn3d_branch2a[0][0]              \n",
      "__________________________________________________________________________________________________\n",
      "res3d_branch2b (Conv2D)         (None, 28, 28, 128)  147584      activation_20[0][0]              \n",
      "__________________________________________________________________________________________________\n",
      "bn3d_branch2b (BatchNormalizati (None, 28, 28, 128)  512         res3d_branch2b[0][0]             \n",
      "__________________________________________________________________________________________________\n",
      "activation_21 (Activation)      (None, 28, 28, 128)  0           bn3d_branch2b[0][0]              \n",
      "__________________________________________________________________________________________________\n",
      "res3d_branch2c (Conv2D)         (None, 28, 28, 512)  66048       activation_21[0][0]              \n",
      "__________________________________________________________________________________________________\n",
      "bn3d_branch2c (BatchNormalizati (None, 28, 28, 512)  2048        res3d_branch2c[0][0]             \n",
      "__________________________________________________________________________________________________\n",
      "add_7 (Add)                     (None, 28, 28, 512)  0           bn3d_branch2c[0][0]              \n",
      "                                                                 activation_19[0][0]              \n",
      "__________________________________________________________________________________________________\n",
      "activation_22 (Activation)      (None, 28, 28, 512)  0           add_7[0][0]                      \n",
      "__________________________________________________________________________________________________\n",
      "res4a_branch2a (Conv2D)         (None, 14, 14, 256)  131328      activation_22[0][0]              \n",
      "__________________________________________________________________________________________________\n",
      "bn4a_branch2a (BatchNormalizati (None, 14, 14, 256)  1024        res4a_branch2a[0][0]             \n",
      "__________________________________________________________________________________________________\n",
      "activation_23 (Activation)      (None, 14, 14, 256)  0           bn4a_branch2a[0][0]              \n",
      "__________________________________________________________________________________________________\n",
      "res4a_branch2b (Conv2D)         (None, 14, 14, 256)  590080      activation_23[0][0]              \n",
      "__________________________________________________________________________________________________\n",
      "bn4a_branch2b (BatchNormalizati (None, 14, 14, 256)  1024        res4a_branch2b[0][0]             \n",
      "__________________________________________________________________________________________________\n",
      "activation_24 (Activation)      (None, 14, 14, 256)  0           bn4a_branch2b[0][0]              \n",
      "__________________________________________________________________________________________________\n",
      "res4a_branch2c (Conv2D)         (None, 14, 14, 1024) 263168      activation_24[0][0]              \n",
      "__________________________________________________________________________________________________\n",
      "res4a_branch1 (Conv2D)          (None, 14, 14, 1024) 525312      activation_22[0][0]              \n",
      "__________________________________________________________________________________________________\n",
      "bn4a_branch2c (BatchNormalizati (None, 14, 14, 1024) 4096        res4a_branch2c[0][0]             \n",
      "__________________________________________________________________________________________________\n",
      "bn4a_branch1 (BatchNormalizatio (None, 14, 14, 1024) 4096        res4a_branch1[0][0]              \n",
      "__________________________________________________________________________________________________\n",
      "add_8 (Add)                     (None, 14, 14, 1024) 0           bn4a_branch2c[0][0]              \n",
      "                                                                 bn4a_branch1[0][0]               \n",
      "__________________________________________________________________________________________________\n",
      "activation_25 (Activation)      (None, 14, 14, 1024) 0           add_8[0][0]                      \n",
      "__________________________________________________________________________________________________\n",
      "res4b_branch2a (Conv2D)         (None, 14, 14, 256)  262400      activation_25[0][0]              \n",
      "__________________________________________________________________________________________________\n",
      "bn4b_branch2a (BatchNormalizati (None, 14, 14, 256)  1024        res4b_branch2a[0][0]             \n",
      "__________________________________________________________________________________________________\n",
      "activation_26 (Activation)      (None, 14, 14, 256)  0           bn4b_branch2a[0][0]              \n",
      "__________________________________________________________________________________________________\n",
      "res4b_branch2b (Conv2D)         (None, 14, 14, 256)  590080      activation_26[0][0]              \n",
      "__________________________________________________________________________________________________\n",
      "bn4b_branch2b (BatchNormalizati (None, 14, 14, 256)  1024        res4b_branch2b[0][0]             \n",
      "__________________________________________________________________________________________________\n",
      "activation_27 (Activation)      (None, 14, 14, 256)  0           bn4b_branch2b[0][0]              \n",
      "__________________________________________________________________________________________________\n",
      "res4b_branch2c (Conv2D)         (None, 14, 14, 1024) 263168      activation_27[0][0]              \n",
      "__________________________________________________________________________________________________\n",
      "bn4b_branch2c (BatchNormalizati (None, 14, 14, 1024) 4096        res4b_branch2c[0][0]             \n",
      "__________________________________________________________________________________________________\n",
      "add_9 (Add)                     (None, 14, 14, 1024) 0           bn4b_branch2c[0][0]              \n",
      "                                                                 activation_25[0][0]              \n",
      "__________________________________________________________________________________________________\n",
      "activation_28 (Activation)      (None, 14, 14, 1024) 0           add_9[0][0]                      \n",
      "__________________________________________________________________________________________________\n",
      "res4c_branch2a (Conv2D)         (None, 14, 14, 256)  262400      activation_28[0][0]              \n",
      "__________________________________________________________________________________________________\n",
      "bn4c_branch2a (BatchNormalizati (None, 14, 14, 256)  1024        res4c_branch2a[0][0]             \n",
      "__________________________________________________________________________________________________\n",
      "activation_29 (Activation)      (None, 14, 14, 256)  0           bn4c_branch2a[0][0]              \n",
      "__________________________________________________________________________________________________\n",
      "res4c_branch2b (Conv2D)         (None, 14, 14, 256)  590080      activation_29[0][0]              \n",
      "__________________________________________________________________________________________________\n",
      "bn4c_branch2b (BatchNormalizati (None, 14, 14, 256)  1024        res4c_branch2b[0][0]             \n",
      "__________________________________________________________________________________________________\n",
      "activation_30 (Activation)      (None, 14, 14, 256)  0           bn4c_branch2b[0][0]              \n",
      "__________________________________________________________________________________________________\n",
      "res4c_branch2c (Conv2D)         (None, 14, 14, 1024) 263168      activation_30[0][0]              \n",
      "__________________________________________________________________________________________________\n",
      "bn4c_branch2c (BatchNormalizati (None, 14, 14, 1024) 4096        res4c_branch2c[0][0]             \n",
      "__________________________________________________________________________________________________\n",
      "add_10 (Add)                    (None, 14, 14, 1024) 0           bn4c_branch2c[0][0]              \n",
      "                                                                 activation_28[0][0]              \n",
      "__________________________________________________________________________________________________\n",
      "activation_31 (Activation)      (None, 14, 14, 1024) 0           add_10[0][0]                     \n",
      "__________________________________________________________________________________________________\n",
      "res4d_branch2a (Conv2D)         (None, 14, 14, 256)  262400      activation_31[0][0]              \n",
      "__________________________________________________________________________________________________\n",
      "bn4d_branch2a (BatchNormalizati (None, 14, 14, 256)  1024        res4d_branch2a[0][0]             \n",
      "__________________________________________________________________________________________________\n",
      "activation_32 (Activation)      (None, 14, 14, 256)  0           bn4d_branch2a[0][0]              \n",
      "__________________________________________________________________________________________________\n",
      "res4d_branch2b (Conv2D)         (None, 14, 14, 256)  590080      activation_32[0][0]              \n",
      "__________________________________________________________________________________________________\n",
      "bn4d_branch2b (BatchNormalizati (None, 14, 14, 256)  1024        res4d_branch2b[0][0]             \n",
      "__________________________________________________________________________________________________\n",
      "activation_33 (Activation)      (None, 14, 14, 256)  0           bn4d_branch2b[0][0]              \n",
      "__________________________________________________________________________________________________\n",
      "res4d_branch2c (Conv2D)         (None, 14, 14, 1024) 263168      activation_33[0][0]              \n",
      "__________________________________________________________________________________________________\n",
      "bn4d_branch2c (BatchNormalizati (None, 14, 14, 1024) 4096        res4d_branch2c[0][0]             \n",
      "__________________________________________________________________________________________________\n",
      "add_11 (Add)                    (None, 14, 14, 1024) 0           bn4d_branch2c[0][0]              \n",
      "                                                                 activation_31[0][0]              \n",
      "__________________________________________________________________________________________________\n",
      "activation_34 (Activation)      (None, 14, 14, 1024) 0           add_11[0][0]                     \n",
      "__________________________________________________________________________________________________\n",
      "res4e_branch2a (Conv2D)         (None, 14, 14, 256)  262400      activation_34[0][0]              \n",
      "__________________________________________________________________________________________________\n",
      "bn4e_branch2a (BatchNormalizati (None, 14, 14, 256)  1024        res4e_branch2a[0][0]             \n",
      "__________________________________________________________________________________________________\n",
      "activation_35 (Activation)      (None, 14, 14, 256)  0           bn4e_branch2a[0][0]              \n",
      "__________________________________________________________________________________________________\n",
      "res4e_branch2b (Conv2D)         (None, 14, 14, 256)  590080      activation_35[0][0]              \n",
      "__________________________________________________________________________________________________\n",
      "bn4e_branch2b (BatchNormalizati (None, 14, 14, 256)  1024        res4e_branch2b[0][0]             \n",
      "__________________________________________________________________________________________________\n",
      "activation_36 (Activation)      (None, 14, 14, 256)  0           bn4e_branch2b[0][0]              \n",
      "__________________________________________________________________________________________________\n",
      "res4e_branch2c (Conv2D)         (None, 14, 14, 1024) 263168      activation_36[0][0]              \n",
      "__________________________________________________________________________________________________\n",
      "bn4e_branch2c (BatchNormalizati (None, 14, 14, 1024) 4096        res4e_branch2c[0][0]             \n",
      "__________________________________________________________________________________________________\n",
      "add_12 (Add)                    (None, 14, 14, 1024) 0           bn4e_branch2c[0][0]              \n",
      "                                                                 activation_34[0][0]              \n",
      "__________________________________________________________________________________________________\n",
      "activation_37 (Activation)      (None, 14, 14, 1024) 0           add_12[0][0]                     \n",
      "__________________________________________________________________________________________________\n",
      "res4f_branch2a (Conv2D)         (None, 14, 14, 256)  262400      activation_37[0][0]              \n",
      "__________________________________________________________________________________________________\n",
      "bn4f_branch2a (BatchNormalizati (None, 14, 14, 256)  1024        res4f_branch2a[0][0]             \n",
      "__________________________________________________________________________________________________\n",
      "activation_38 (Activation)      (None, 14, 14, 256)  0           bn4f_branch2a[0][0]              \n",
      "__________________________________________________________________________________________________\n",
      "res4f_branch2b (Conv2D)         (None, 14, 14, 256)  590080      activation_38[0][0]              \n",
      "__________________________________________________________________________________________________\n",
      "bn4f_branch2b (BatchNormalizati (None, 14, 14, 256)  1024        res4f_branch2b[0][0]             \n",
      "__________________________________________________________________________________________________\n",
      "activation_39 (Activation)      (None, 14, 14, 256)  0           bn4f_branch2b[0][0]              \n",
      "__________________________________________________________________________________________________\n",
      "res4f_branch2c (Conv2D)         (None, 14, 14, 1024) 263168      activation_39[0][0]              \n",
      "__________________________________________________________________________________________________\n",
      "bn4f_branch2c (BatchNormalizati (None, 14, 14, 1024) 4096        res4f_branch2c[0][0]             \n",
      "__________________________________________________________________________________________________\n",
      "add_13 (Add)                    (None, 14, 14, 1024) 0           bn4f_branch2c[0][0]              \n",
      "                                                                 activation_37[0][0]              \n",
      "__________________________________________________________________________________________________\n",
      "activation_40 (Activation)      (None, 14, 14, 1024) 0           add_13[0][0]                     \n",
      "__________________________________________________________________________________________________\n",
      "res5a_branch2a (Conv2D)         (None, 7, 7, 512)    524800      activation_40[0][0]              \n",
      "__________________________________________________________________________________________________\n",
      "bn5a_branch2a (BatchNormalizati (None, 7, 7, 512)    2048        res5a_branch2a[0][0]             \n",
      "__________________________________________________________________________________________________\n",
      "activation_41 (Activation)      (None, 7, 7, 512)    0           bn5a_branch2a[0][0]              \n",
      "__________________________________________________________________________________________________\n",
      "res5a_branch2b (Conv2D)         (None, 7, 7, 512)    2359808     activation_41[0][0]              \n",
      "__________________________________________________________________________________________________\n",
      "bn5a_branch2b (BatchNormalizati (None, 7, 7, 512)    2048        res5a_branch2b[0][0]             \n",
      "__________________________________________________________________________________________________\n",
      "activation_42 (Activation)      (None, 7, 7, 512)    0           bn5a_branch2b[0][0]              \n",
      "__________________________________________________________________________________________________\n",
      "res5a_branch2c (Conv2D)         (None, 7, 7, 2048)   1050624     activation_42[0][0]              \n",
      "__________________________________________________________________________________________________\n",
      "res5a_branch1 (Conv2D)          (None, 7, 7, 2048)   2099200     activation_40[0][0]              \n",
      "__________________________________________________________________________________________________\n",
      "bn5a_branch2c (BatchNormalizati (None, 7, 7, 2048)   8192        res5a_branch2c[0][0]             \n",
      "__________________________________________________________________________________________________\n",
      "bn5a_branch1 (BatchNormalizatio (None, 7, 7, 2048)   8192        res5a_branch1[0][0]              \n",
      "__________________________________________________________________________________________________\n",
      "add_14 (Add)                    (None, 7, 7, 2048)   0           bn5a_branch2c[0][0]              \n",
      "                                                                 bn5a_branch1[0][0]               \n",
      "__________________________________________________________________________________________________\n",
      "activation_43 (Activation)      (None, 7, 7, 2048)   0           add_14[0][0]                     \n",
      "__________________________________________________________________________________________________\n",
      "res5b_branch2a (Conv2D)         (None, 7, 7, 512)    1049088     activation_43[0][0]              \n",
      "__________________________________________________________________________________________________\n",
      "bn5b_branch2a (BatchNormalizati (None, 7, 7, 512)    2048        res5b_branch2a[0][0]             \n",
      "__________________________________________________________________________________________________\n",
      "activation_44 (Activation)      (None, 7, 7, 512)    0           bn5b_branch2a[0][0]              \n",
      "__________________________________________________________________________________________________\n",
      "res5b_branch2b (Conv2D)         (None, 7, 7, 512)    2359808     activation_44[0][0]              \n",
      "__________________________________________________________________________________________________\n",
      "bn5b_branch2b (BatchNormalizati (None, 7, 7, 512)    2048        res5b_branch2b[0][0]             \n",
      "__________________________________________________________________________________________________\n",
      "activation_45 (Activation)      (None, 7, 7, 512)    0           bn5b_branch2b[0][0]              \n",
      "__________________________________________________________________________________________________\n",
      "res5b_branch2c (Conv2D)         (None, 7, 7, 2048)   1050624     activation_45[0][0]              \n",
      "__________________________________________________________________________________________________\n",
      "bn5b_branch2c (BatchNormalizati (None, 7, 7, 2048)   8192        res5b_branch2c[0][0]             \n",
      "__________________________________________________________________________________________________\n",
      "add_15 (Add)                    (None, 7, 7, 2048)   0           bn5b_branch2c[0][0]              \n",
      "                                                                 activation_43[0][0]              \n",
      "__________________________________________________________________________________________________\n",
      "activation_46 (Activation)      (None, 7, 7, 2048)   0           add_15[0][0]                     \n",
      "__________________________________________________________________________________________________\n",
      "res5c_branch2a (Conv2D)         (None, 7, 7, 512)    1049088     activation_46[0][0]              \n",
      "__________________________________________________________________________________________________\n",
      "bn5c_branch2a (BatchNormalizati (None, 7, 7, 512)    2048        res5c_branch2a[0][0]             \n",
      "__________________________________________________________________________________________________\n",
      "activation_47 (Activation)      (None, 7, 7, 512)    0           bn5c_branch2a[0][0]              \n",
      "__________________________________________________________________________________________________\n",
      "res5c_branch2b (Conv2D)         (None, 7, 7, 512)    2359808     activation_47[0][0]              \n",
      "__________________________________________________________________________________________________\n",
      "bn5c_branch2b (BatchNormalizati (None, 7, 7, 512)    2048        res5c_branch2b[0][0]             \n",
      "__________________________________________________________________________________________________\n",
      "activation_48 (Activation)      (None, 7, 7, 512)    0           bn5c_branch2b[0][0]              \n",
      "__________________________________________________________________________________________________\n",
      "res5c_branch2c (Conv2D)         (None, 7, 7, 2048)   1050624     activation_48[0][0]              \n",
      "__________________________________________________________________________________________________\n",
      "bn5c_branch2c (BatchNormalizati (None, 7, 7, 2048)   8192        res5c_branch2c[0][0]             \n",
      "__________________________________________________________________________________________________\n",
      "add_16 (Add)                    (None, 7, 7, 2048)   0           bn5c_branch2c[0][0]              \n",
      "                                                                 activation_46[0][0]              \n",
      "__________________________________________________________________________________________________\n",
      "activation_49 (Activation)      (None, 7, 7, 2048)   0           add_16[0][0]                     \n",
      "__________________________________________________________________________________________________\n",
      "global_average_pooling2d_2 (Glo (None, 2048)         0           activation_49[0][0]              \n",
      "__________________________________________________________________________________________________\n",
      "dropout_1 (Dropout)             (None, 2048)         0           global_average_pooling2d_2[0][0] \n",
      "__________________________________________________________________________________________________\n",
      "dense_1 (Dense)                 (None, 100)          204900      dropout_1[0][0]                  \n",
      "==================================================================================================\n",
      "Total params: 23,792,612\n",
      "Trainable params: 23,739,492\n",
      "Non-trainable params: 53,120\n",
      "__________________________________________________________________________________________________\n"
     ]
    },
    {
     "name": "stderr",
     "output_type": "stream",
     "text": [
      "/usr/local/lib/python3.6/dist-packages/ipykernel_launcher.py:16: UserWarning: Update your `Model` call to the Keras 2 API: `Model(inputs=Tensor(\"in..., outputs=Tensor(\"de...)`\n",
      "  app.launch_new_instance()\n"
     ]
    }
   ],
   "source": [
    "#InceptionV3\n",
    "\n",
    "base_model = ResNet50(weights='imagenet', \n",
    "                                include_top=False, \n",
    "                                input_shape=(224, 224,3))\n",
    "base_model.trainable = False\n",
    "\n",
    "x = base_model.output\n",
    "x = keras.layers.GlobalAveragePooling2D()(x)\n",
    "# let's add a fully-connected layer\n",
    "x = Dropout(0.5)(x)\n",
    "# and a sofymax/logistic layer -- we have 6 classes\n",
    "predictions = Dense(100, activation='softmax')(x)\n",
    "\n",
    "# this is the model we will train\n",
    "model = Model(input=base_model.input, output=predictions)\n",
    "\n",
    "\n",
    "model.summary()"
   ]
  },
  {
   "cell_type": "code",
   "execution_count": 20,
   "metadata": {},
   "outputs": [],
   "source": [
    "#Atutomatic rename with epoch number and val accuracy:\n",
    "#filepath=\"checkpoints/weights-improvement-epeoch-{epoch:02d}-val_acc-{val_acc:.2f}.hdf5\"\n",
    "modelName= \"InceptionTutorial\"\n",
    "#save the best weights over the same file with the model name\n",
    "\n",
    "#filepath=\"checkpoints/\"+modelName+\"_bestweights.hdf5\"\n",
    "filepath=modelName+\"_best.hdf5\"\n",
    "checkpoint = ModelCheckpoint(filepath, monitor='val_acc', verbose=1, save_best_only=True, mode='max')\n",
    "callbacks_list = [checkpoint]\n",
    "\n",
    "model.compile(Adam(lr=0.0001), loss='categorical_crossentropy', metrics=['accuracy'])"
   ]
  },
  {
   "cell_type": "code",
   "execution_count": 21,
   "metadata": {},
   "outputs": [
    {
     "name": "stdout",
     "output_type": "stream",
     "text": [
      "stepsPerEpoch:  1250\n",
      "validationSteps:  53\n"
     ]
    }
   ],
   "source": [
    "stepsPerEpoch= (train_generator.samples+ (batchSize-1)) // batchSize\n",
    "print(\"stepsPerEpoch: \", stepsPerEpoch)\n",
    "\n",
    "validationSteps=(validation_generator.samples+ (batchSize-1)) // batchSize\n",
    "print(\"validationSteps: \", validationSteps)\n",
    "\n",
    "\n",
    "#validationSteps=(test_generator.samples+ (batchSize-1)) // batchSize\n",
    "#print(\"validationSteps: \", validationSteps)"
   ]
  },
  {
   "cell_type": "code",
   "execution_count": 22,
   "metadata": {},
   "outputs": [
    {
     "name": "stdout",
     "output_type": "stream",
     "text": [
      "WARNING:tensorflow:From /home/mykola/.local/lib/python3.6/site-packages/tensorflow/python/ops/math_ops.py:3066: to_int32 (from tensorflow.python.ops.math_ops) is deprecated and will be removed in a future version.\n",
      "Instructions for updating:\n",
      "Use tf.cast instead.\n",
      "Epoch 1/4\n",
      "1250/1250 [==============================] - 1037s 830ms/step - loss: 2.5448 - acc: 0.3705 - val_loss: 1.8466 - val_acc: 0.5053\n",
      "\n",
      "Epoch 00001: val_acc improved from -inf to 0.50534, saving model to InceptionTutorial_best.hdf5\n",
      "Epoch 2/4\n",
      "1250/1250 [==============================] - 1019s 815ms/step - loss: 1.3515 - acc: 0.6236 - val_loss: 1.7686 - val_acc: 0.5439\n",
      "\n",
      "Epoch 00002: val_acc improved from 0.50534 to 0.54389, saving model to InceptionTutorial_best.hdf5\n",
      "Epoch 3/4\n",
      "1250/1250 [==============================] - 1002s 802ms/step - loss: 0.9351 - acc: 0.7281 - val_loss: 1.8171 - val_acc: 0.5552\n",
      "\n",
      "Epoch 00003: val_acc improved from 0.54389 to 0.55516, saving model to InceptionTutorial_best.hdf5\n",
      "Epoch 4/4\n",
      "1250/1250 [==============================] - 1087s 870ms/step - loss: 0.7087 - acc: 0.7935 - val_loss: 1.7671 - val_acc: 0.5801\n",
      "\n",
      "Epoch 00004: val_acc improved from 0.55516 to 0.58007, saving model to InceptionTutorial_best.hdf5\n"
     ]
    }
   ],
   "source": [
    "train_generator.reset()\n",
    "validation_generator.reset()\n",
    "\n",
    "# Fit the model\n",
    "history = model.fit_generator(\n",
    "    train_generator, \n",
    "    validation_data = validation_generator,\n",
    "    epochs = 4,\n",
    "    steps_per_epoch = stepsPerEpoch,\n",
    "    validation_steps= validationSteps,\n",
    "    callbacks=callbacks_list,\n",
    "    verbose=1)"
   ]
  },
  {
   "cell_type": "code",
   "execution_count": 23,
   "metadata": {},
   "outputs": [
    {
     "name": "stdout",
     "output_type": "stream",
     "text": [
      "dict_keys(['val_loss', 'val_acc', 'loss', 'acc'])\n"
     ]
    },
    {
     "data": {
      "image/png": "[encoded data removed]",
      "text/plain": [
       "<Figure size 432x288 with 1 Axes>"
      ]
     },
     "metadata": {
      "needs_background": "light"
     },
     "output_type": "display_data"
    },
    {
     "data": {
      "image/png": "[encoded data removed]",
      "text/plain": [
       "<Figure size 432x288 with 1 Axes>"
      ]
     },
     "metadata": {
      "needs_background": "light"
     },
     "output_type": "display_data"
    }
   ],
   "source": [
    "# list all data in history\n",
    "print(history.history.keys())\n",
    "# summarize history for accuracy\n",
    "plt.plot(history.history['acc'])\n",
    "plt.plot(history.history['val_acc'])\n",
    "plt.title('model accuracy')\n",
    "plt.ylabel('accuracy')\n",
    "plt.xlabel('epoch')\n",
    "plt.legend(['train', 'Validation'], loc='upper left')\n",
    "plt.show()\n",
    "# summarize history for loss\n",
    "plt.plot(history.history['loss'])\n",
    "plt.plot(history.history['val_loss'])\n",
    "plt.title('model loss')\n",
    "plt.ylabel('loss')\n",
    "plt.xlabel('epoch')\n",
    "plt.legend(['train', 'validation'], loc='upper left')\n",
    "plt.show()"
   ]
  },
  {
   "cell_type": "code",
   "execution_count": null,
   "metadata": {},
   "outputs": [],
   "source": []
  },
  {
   "cell_type": "code",
   "execution_count": 25,
   "metadata": {},
   "outputs": [
    {
     "name": "stdout",
     "output_type": "stream",
     "text": [
      "Found 16858 images belonging to 1 classes.\n",
      "16858/16858 [==============================] - 355s 21ms/step\n",
      "Done!\n"
     ]
    }
   ],
   "source": [
    "test_generator = ImageDataGenerator().flow_from_directory(\n",
    "        'test/',\n",
    "        target_size=(224, 224),\n",
    "        shuffle = False,\n",
    "        class_mode=None,\n",
    "        batch_size=1)\n",
    "\n",
    "# Get the filenames & remove directory specification in front of filename\n",
    "filenames = [filename for filename in test_generator.filenames]\n",
    "\n",
    "# Not predicting in batches but each inidividual item, therefore we need to know the amount of predictions\n",
    "nb_samples = len(filenames)\n",
    "\n",
    "# Reset before each call to predict\n",
    "test_generator.reset()\n",
    "\n",
    "pred = model.predict_generator(test_generator, steps = len(test_generator), verbose = 1)\n",
    "\n",
    "predicted_class_indices = np.argmax(pred, axis = 1)\n",
    "\n",
    "\n",
    "# Map predictions to the correct labels\n",
    "labels = (train_generator.class_indices)\n",
    "labels = dict((v,k) for k,v in labels.items())\n",
    "predictions = [labels[k] for k in predicted_class_indices]\n",
    "\n",
    "ff = [f[5:] for f in filenames]\n",
    "\n",
    "# Submit file\n",
    "submission = pd.DataFrame({'name':ff,'category':predictions})\n",
    "submission.to_csv('Resnet_5_epoch_augmentation_4_epoch.csv', index=False)\n",
    "print(\"Done!\")"
   ]
  },
  {
   "cell_type": "code",
   "execution_count": null,
   "metadata": {},
   "outputs": [],
   "source": []
  },
  {
   "cell_type": "code",
   "execution_count": null,
   "metadata": {},
   "outputs": [],
   "source": []
  },
  {
   "cell_type": "code",
   "execution_count": null,
   "metadata": {},
   "outputs": [],
   "source": []
  },
  {
   "cell_type": "code",
   "execution_count": null,
   "metadata": {},
   "outputs": [],
   "source": []
  },
  {
   "cell_type": "code",
   "execution_count": null,
   "metadata": {},
   "outputs": [],
   "source": []
  },
  {
   "cell_type": "code",
   "execution_count": null,
   "metadata": {},
   "outputs": [],
   "source": []
  },
  {
   "cell_type": "code",
   "execution_count": null,
   "metadata": {},
   "outputs": [],
   "source": []
  },
  {
   "cell_type": "code",
   "execution_count": null,
   "metadata": {},
   "outputs": [],
   "source": []
  },
  {
   "cell_type": "code",
   "execution_count": null,
   "metadata": {},
   "outputs": [],
   "source": []
  },
  {
   "cell_type": "code",
   "execution_count": null,
   "metadata": {},
   "outputs": [],
   "source": []
  }
 ],
 "metadata": {
  "kernelspec": {
   "display_name": "Python 3",
   "language": "python",
   "name": "python3"
  },
  "language_info": {
   "codemirror_mode": {
    "name": "ipython",
    "version": 3
   },
   "file_extension": ".py",
   "mimetype": "text/x-python",
   "name": "python",
   "nbconvert_exporter": "python",
   "pygments_lexer": "ipython3",
   "version": "3.6.9"
  }
 },
 "nbformat": 4,
 "nbformat_minor": 2
}
