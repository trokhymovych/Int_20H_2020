{
 "cells": [
  {
   "cell_type": "code",
   "execution_count": 2,
   "metadata": {},
   "outputs": [],
   "source": [
    "#!pip install git+git://github.com/jaredwinick/img2vec-keras.git --user"
   ]
  },
  {
   "cell_type": "code",
   "execution_count": 4,
   "metadata": {},
   "outputs": [],
   "source": [
    "import os\n",
    "os.environ['CUDA_VISIBLE_DEVICES'] = '0'\n",
    "os.environ['CUDA_DEVICE_ORDER']='PCI_BUS_ID'"
   ]
  },
  {
   "cell_type": "code",
   "execution_count": 5,
   "metadata": {},
   "outputs": [
    {
     "name": "stderr",
     "output_type": "stream",
     "text": [
      "Using TensorFlow backend.\n"
     ]
    }
   ],
   "source": [
    "from keras.preprocessing.image import load_img,img_to_array\n",
    "from keras.models import Model\n",
    "from keras.applications.imagenet_utils import preprocess_input\n",
    "\n",
    "from PIL import Image\n",
    "import os\n",
    "import matplotlib.pyplot as plt\n",
    "import numpy as np\n",
    "from sklearn.metrics.pairwise import cosine_similarity\n",
    "import pandas as pd\n",
    "\n",
    "import matplotlib.pyplot as plt\n",
    "import itertools"
   ]
  },
  {
   "cell_type": "code",
   "execution_count": 6,
   "metadata": {},
   "outputs": [],
   "source": [
    "from tqdm.auto import tqdm\n",
    "from sklearn.metrics.pairwise import cosine_similarity\n",
    "import json\n",
    "from IPython.display import HTML"
   ]
  },
  {
   "cell_type": "code",
   "execution_count": 7,
   "metadata": {},
   "outputs": [],
   "source": [
    "import keras\n",
    "from keras.applications.vgg16 import VGG16 #224x224\n",
    "from keras.applications.vgg19 import VGG19 #224x224\n",
    "\n",
    "from keras.applications.xception import Xception # 299x299\n",
    "\n",
    "from keras.applications.resnet import ResNet50 #224x224\n",
    "from keras.applications.resnet import ResNet101\n",
    "from keras.applications.resnet import ResNet152\n",
    "from keras.applications.resnet_v2 import ResNet50V2\n",
    "from keras.applications.resnet_v2 import ResNet101V2\n",
    "from keras.applications.resnet_v2 import ResNet152V2\n",
    "# from keras.applications.resnext import ResNeXt50\n",
    "# from keras.applications.resnext import ResNeXt101\n",
    "\n",
    "from keras.applications.inception_v3 import InceptionV3 #299x299\n",
    "from keras.applications.inception_resnet_v2 import InceptionResNetV2 #299x299\n",
    "\n",
    "from keras.applications.mobilenet import MobileNet #224x224\n",
    "from keras.applications.mobilenet_v2 import MobileNetV2 #224x224\n",
    "\n",
    "from keras.applications.densenet import DenseNet121 #224x224\n",
    "from keras.applications.densenet import DenseNet169 #224x224\n",
    "from keras.applications.densenet import DenseNet201 #224x224\n",
    "\n",
    "from keras.applications.nasnet import NASNetMobile #331x331 \n",
    "from keras.applications.nasnet import NASNetLarge #224x224"
   ]
  },
  {
   "cell_type": "code",
   "execution_count": 8,
   "metadata": {},
   "outputs": [],
   "source": [
    "# preprocess_input_functions = [keras.applications.vgg16.preprocess_input, \n",
    "#             keras.applications.vgg19.preprocess_input,\n",
    "#             keras.applications.xception.preprocess_input, \n",
    "#             keras.applications.resnet50.preprocess_input,\n",
    "#             keras.applications.resnet50.preprocess_input, \n",
    "#             keras.applications.resnet50.preprocess_input,\n",
    "#             keras.applications.resnet50.preprocess_input, \n",
    "#             keras.applications.inception_v3.preprocess_input,\n",
    "#             keras.applications.inception_resnet_v2.preprocess_input, \n",
    "#             keras.applications.mobilenet.preprocess_input,\n",
    "#             keras.applications.mobilenet_v2.preprocess_input, \n",
    "#             keras.applications.densenet.preprocess_input,\n",
    "#             keras.applications.densenet.preprocess_input, \n",
    "#             keras.applications.densenet.preprocess_input]"
   ]
  },
  {
   "cell_type": "code",
   "execution_count": 9,
   "metadata": {},
   "outputs": [],
   "source": [
    "#models = [VGG16, VGG19, Xception, ResNet50, ResNet101,ResNet152, ResNet50V2,ResNet101V2,ResNet152V2,InceptionV3,InceptionResNetV2,MobileNet, MobileNetV2, DenseNet121,DenseNet169,DenseNet201,NASNetMobile,NASNetLarge]\n",
    "#ResNeXt50,ResNeXt101"
   ]
  },
  {
   "cell_type": "code",
   "execution_count": 10,
   "metadata": {},
   "outputs": [
    {
     "name": "stdout",
     "output_type": "stream",
     "text": [
      "WARNING:tensorflow:From /home/max/.local/lib/python3.6/site-packages/keras/backend/tensorflow_backend.py:4070: The name tf.nn.max_pool is deprecated. Please use tf.nn.max_pool2d instead.\n",
      "\n",
      "Downloading data from https://github.com/keras-team/keras-applications/releases/download/resnet/resnet50_weights_tf_dim_ordering_tf_kernels.h5\n",
      "102973440/102967424 [==============================] - 5s 0us/step\n"
     ]
    }
   ],
   "source": [
    "model = ResNet50(weights='imagenet')\n",
    "preprocess_input_function = keras.applications.resnet50.preprocess_input\n",
    "feat_extractor = Model(inputs=model.input, outputs=model.get_layer(model.layers[-2].name).output)"
   ]
  },
  {
   "cell_type": "code",
   "execution_count": 30,
   "metadata": {},
   "outputs": [],
   "source": [
    "data_path = \"image_data/without_back/\""
   ]
  },
  {
   "cell_type": "code",
   "execution_count": 31,
   "metadata": {},
   "outputs": [],
   "source": [
    "from tqdm.auto import tqdm\n",
    "\n",
    "def get_featureas(data_path):\n",
    "    cat_img_features = []\n",
    "    \n",
    "    image_names = os.listdir(data_path)\n",
    "    \n",
    "    imgs_model_width, imgs_model_height = feat_extractor.input_shape[1:3]\n",
    "    loaded_images = []\n",
    "    for img_name in tqdm(image_names):\n",
    "        original = load_img(data_path+img_name, target_size=(imgs_model_width, imgs_model_height))\n",
    "        numpy_image = img_to_array(original)\n",
    "        image_batch = np.expand_dims(numpy_image, axis=0)\n",
    "        loaded_images.append(image_batch)\n",
    "    images = np.vstack(loaded_images)\n",
    "    processed_imgs = preprocess_input_function(images.copy())\n",
    "    imgs_features = feat_extractor.predict(processed_imgs)\n",
    "    cat_img_features.append(imgs_features)\n",
    "    \n",
    "    return cat_img_features, image_names"
   ]
  },
  {
   "cell_type": "code",
   "execution_count": null,
   "metadata": {},
   "outputs": [
    {
     "data": {
      "application/vnd.jupyter.widget-view+json": {
       "model_id": "a8fb1e15b55a45efbf2200cb4b3554f2",
       "version_major": 2,
       "version_minor": 0
      },
      "text/plain": [
       "HBox(children=(IntProgress(value=0, max=16856), HTML(value='')))"
      ]
     },
     "metadata": {},
     "output_type": "display_data"
    }
   ],
   "source": [
    "cat_img_features, image_names = get_featureas(data_path)"
   ]
  }
 ],
 "metadata": {
  "kernelspec": {
   "display_name": "Python 3",
   "language": "python",
   "name": "python3"
  },
  "language_info": {
   "codemirror_mode": {
    "name": "ipython",
    "version": 3
   },
   "file_extension": ".py",
   "mimetype": "text/x-python",
   "name": "python",
   "nbconvert_exporter": "python",
   "pygments_lexer": "ipython3",
   "version": "3.6.9"
  }
 },
 "nbformat": 4,
 "nbformat_minor": 2
}
