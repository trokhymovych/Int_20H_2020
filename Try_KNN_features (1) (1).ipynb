{
 "cells": [
  {
   "cell_type": "code",
   "execution_count": 1,
   "metadata": {},
   "outputs": [],
   "source": [
    "#!pip install git+git://github.com/jaredwinick/img2vec-keras.git --user"
   ]
  },
  {
   "cell_type": "code",
   "execution_count": null,
   "metadata": {},
   "outputs": [],
   "source": [
    "import os\n",
    "os.environ['CUDA_VISIBLE_DEVICES'] = '2'\n",
    "os.environ['CUDA_DEVICE_ORDER']='PCI_BUS_ID'"
   ]
  },
  {
   "cell_type": "code",
   "execution_count": null,
   "metadata": {},
   "outputs": [],
   "source": [
    "import tensorflow as tf\n",
    "physical_devices = tf.config.experimental.list_physical_devices('GPU')\n",
    "assert len(physical_devices) > 0, \"Not enough GPU hardware devices available\"\n",
    "tf.config.experimental.set_memory_growth(physical_devices[0], True)\n",
    "assert tf.config.experimental.get_memory_growth(physical_devices[0]) == True\n",
    "\n",
    "config = tf.ConfigProto()\n",
    "config.gpu_options.allow_growth=True\n",
    "sess = tf.Session(config=config)"
   ]
  },
  {
   "cell_type": "code",
   "execution_count": null,
   "metadata": {},
   "outputs": [],
   "source": [
    "# #allocate memory on demand (not use all available)\n",
    "# physical_devices = tf.config.list_physical_devices('GPU') \n",
    "# try: \n",
    "#     tf.config.experimental.set_memory_growth(physical_devices[0], True) \n",
    "# except: \n",
    "#   # Invalid device or cannot modify virtual devices once initialized. \n",
    "#     pass \n",
    "\n",
    "# #use not all threads\n",
    "# tf.config.threading.set_intra_op_parallelism_threads(5)\n",
    "# tf.config.threading.set_inter_op_parallelism_threads(5)"
   ]
  },
  {
   "cell_type": "code",
   "execution_count": null,
   "metadata": {},
   "outputs": [],
   "source": [
    "from keras.preprocessing.image import load_img,img_to_array\n",
    "from keras.models import Model\n",
    "from keras.applications.imagenet_utils import preprocess_input\n",
    "\n",
    "from PIL import Image\n",
    "import os\n",
    "import matplotlib.pyplot as plt\n",
    "import numpy as np\n",
    "from sklearn.metrics.pairwise import cosine_similarity\n",
    "import pandas as pd\n",
    "\n",
    "import matplotlib.pyplot as plt\n",
    "import itertools"
   ]
  },
  {
   "cell_type": "code",
   "execution_count": null,
   "metadata": {},
   "outputs": [],
   "source": [
    "from tqdm.auto import tqdm\n",
    "from sklearn.metrics.pairwise import cosine_similarity\n",
    "import json\n",
    "from IPython.display import HTML"
   ]
  },
  {
   "cell_type": "code",
   "execution_count": null,
   "metadata": {},
   "outputs": [],
   "source": [
    "import keras\n",
    "from keras.applications.vgg16 import VGG16 #224x224\n",
    "from keras.applications.vgg19 import VGG19 #224x224\n",
    "\n",
    "from keras.applications.xception import Xception # 299x299\n",
    "\n",
    "from keras.applications.resnet import ResNet50 #224x224\n",
    "from keras.applications.resnet import ResNet101\n",
    "from keras.applications.resnet import ResNet152\n",
    "from keras.applications.resnet_v2 import ResNet50V2\n",
    "from keras.applications.resnet_v2 import ResNet101V2\n",
    "from keras.applications.resnet_v2 import ResNet152V2\n",
    "# from keras.applications.resnext import ResNeXt50\n",
    "# from keras.applications.resnext import ResNeXt101\n",
    "\n",
    "from keras.applications.inception_v3 import InceptionV3 #299x299\n",
    "from keras.applications.inception_resnet_v2 import InceptionResNetV2 #299x299\n",
    "\n",
    "from keras.applications.mobilenet import MobileNet #224x224\n",
    "from keras.applications.mobilenet_v2 import MobileNetV2 #224x224\n",
    "\n",
    "from keras.applications.densenet import DenseNet121 #224x224\n",
    "from keras.applications.densenet import DenseNet169 #224x224\n",
    "from keras.applications.densenet import DenseNet201 #224x224\n",
    "\n",
    "from keras.applications.nasnet import NASNetMobile #331x331 \n",
    "from keras.applications.nasnet import NASNetLarge #224x224"
   ]
  },
  {
   "cell_type": "code",
   "execution_count": 7,
   "metadata": {},
   "outputs": [],
   "source": [
    "# preprocess_input_functions = [keras.applications.vgg16.preprocess_input, \n",
    "#             keras.applications.vgg19.preprocess_input,\n",
    "#             keras.applications.xception.preprocess_input, \n",
    "#             keras.applications.resnet50.preprocess_input,\n",
    "#             keras.applications.resnet50.preprocess_input, \n",
    "#             keras.applications.resnet50.preprocess_input,\n",
    "#             keras.applications.resnet50.preprocess_input, \n",
    "#             keras.applications.inception_v3.preprocess_input,\n",
    "#             keras.applications.inception_resnet_v2.preprocess_input, \n",
    "#             keras.applications.mobilenet.preprocess_input,\n",
    "#             keras.applications.mobilenet_v2.preprocess_input, \n",
    "#             keras.applications.densenet.preprocess_input,\n",
    "#             keras.applications.densenet.preprocess_input, \n",
    "#             keras.applications.densenet.preprocess_input]"
   ]
  },
  {
   "cell_type": "code",
   "execution_count": 8,
   "metadata": {},
   "outputs": [],
   "source": [
    "#models = [VGG16, VGG19, Xception, ResNet50, ResNet101,ResNet152, ResNet50V2,ResNet101V2,ResNet152V2,InceptionV3,InceptionResNetV2,MobileNet, MobileNetV2, DenseNet121,DenseNet169,DenseNet201,NASNetMobile,NASNetLarge]\n",
    "#ResNeXt50,ResNeXt101"
   ]
  },
  {
   "cell_type": "code",
   "execution_count": 9,
   "metadata": {},
   "outputs": [
    {
     "name": "stdout",
     "output_type": "stream",
     "text": [
      "WARNING:tensorflow:From /home/max/.local/lib/python3.6/site-packages/keras/backend/tensorflow_backend.py:4070: The name tf.nn.max_pool is deprecated. Please use tf.nn.max_pool2d instead.\n",
      "\n"
     ]
    }
   ],
   "source": [
    "model = ResNet50(weights='imagenet')\n",
    "preprocess_input_function = keras.applications.resnet50.preprocess_input\n",
    "feat_extractor = Model(inputs=model.input, outputs=model.get_layer(model.layers[-2].name).output)"
   ]
  },
  {
   "cell_type": "code",
   "execution_count": 10,
   "metadata": {},
   "outputs": [],
   "source": [
    "#feat_extractor = model"
   ]
  },
  {
   "cell_type": "code",
   "execution_count": 11,
   "metadata": {},
   "outputs": [],
   "source": [
    "from tqdm.auto import tqdm\n",
    "\n",
    "def get_featureas(data_path):\n",
    "    \n",
    "    image_names = os.listdir(data_path)\n",
    "    \n",
    "    imgs_model_width, imgs_model_height = feat_extractor.input_shape[1:3]\n",
    "    loaded_images = []\n",
    "    for img_name in tqdm(image_names):\n",
    "        original = load_img(data_path+img_name, target_size=(imgs_model_width, imgs_model_height))\n",
    "        numpy_image = img_to_array(original)\n",
    "        image_batch = np.expand_dims(numpy_image, axis=0)\n",
    "        loaded_images.append(image_batch)\n",
    "    images = np.vstack(loaded_images)\n",
    "    processed_imgs = preprocess_input_function(images.copy())\n",
    "    imgs_features = feat_extractor.predict(processed_imgs)\n",
    "    \n",
    "    return imgs_features, image_names"
   ]
  },
  {
   "cell_type": "code",
   "execution_count": 12,
   "metadata": {},
   "outputs": [
    {
     "data": {
      "application/vnd.jupyter.widget-view+json": {
       "model_id": "cbef4fa39352495f8ccac411ecd6d56e",
       "version_major": 2,
       "version_minor": 0
      },
      "text/plain": [
       "HBox(children=(IntProgress(value=0, max=16857), HTML(value='')))"
      ]
     },
     "metadata": {},
     "output_type": "display_data"
    },
    {
     "name": "stdout",
     "output_type": "stream",
     "text": [
      "\n",
      "WARNING:tensorflow:From /home/max/.local/lib/python3.6/site-packages/keras/backend/tensorflow_backend.py:422: The name tf.global_variables is deprecated. Please use tf.compat.v1.global_variables instead.\n",
      "\n"
     ]
    }
   ],
   "source": [
    "data_path = \"image_data/train/\"\n",
    "imgs_features, image_names = get_featureas(data_path)"
   ]
  },
  {
   "cell_type": "code",
   "execution_count": null,
   "metadata": {},
   "outputs": [],
   "source": []
  },
  {
   "cell_type": "code",
   "execution_count": 18,
   "metadata": {},
   "outputs": [
    {
     "data": {
      "text/html": [
       "<div>\n",
       "<style scoped>\n",
       "    .dataframe tbody tr th:only-of-type {\n",
       "        vertical-align: middle;\n",
       "    }\n",
       "\n",
       "    .dataframe tbody tr th {\n",
       "        vertical-align: top;\n",
       "    }\n",
       "\n",
       "    .dataframe thead th {\n",
       "        text-align: right;\n",
       "    }\n",
       "</style>\n",
       "<table border=\"1\" class=\"dataframe\">\n",
       "  <thead>\n",
       "    <tr style=\"text-align: right;\">\n",
       "      <th></th>\n",
       "      <th>name</th>\n",
       "      <th>category</th>\n",
       "    </tr>\n",
       "  </thead>\n",
       "  <tbody>\n",
       "    <tr>\n",
       "      <th>0</th>\n",
       "      <td>0.jpg</td>\n",
       "      <td>47</td>\n",
       "    </tr>\n",
       "    <tr>\n",
       "      <th>1</th>\n",
       "      <td>1.jpg</td>\n",
       "      <td>60</td>\n",
       "    </tr>\n",
       "  </tbody>\n",
       "</table>\n",
       "</div>"
      ],
      "text/plain": [
       "    name  category\n",
       "0  0.jpg        47\n",
       "1  1.jpg        60"
      ]
     },
     "metadata": {},
     "output_type": "display_data"
    }
   ],
   "source": [
    "labels = pd.read_csv(\"train.csv\")\n",
    "labels_dict = dict(zip(labels[\"name\"].values, labels[\"category\"].values))\n",
    "display(labels.head(2))\n",
    "\n",
    "# name_df = pd.DataFrame(image_names, columns=[\"name\"])\n",
    "# name_df[\"category\"] = name_df[\"name\"].map(labels_dict)\n",
    "# name_df.head()"
   ]
  },
  {
   "cell_type": "code",
   "execution_count": 14,
   "metadata": {},
   "outputs": [],
   "source": [
    "#name_df[\"category\"].values"
   ]
  },
  {
   "cell_type": "code",
   "execution_count": 15,
   "metadata": {},
   "outputs": [],
   "source": [
    "#imgs_features, image_names = get_featureas(data_path)"
   ]
  },
  {
   "cell_type": "code",
   "execution_count": 16,
   "metadata": {},
   "outputs": [],
   "source": [
    "#imgs_features.shape"
   ]
  },
  {
   "cell_type": "markdown",
   "metadata": {},
   "source": [
    "### Get features for test"
   ]
  },
  {
   "cell_type": "code",
   "execution_count": 17,
   "metadata": {},
   "outputs": [],
   "source": [
    "data_path = \"image_data/test/\""
   ]
  },
  {
   "cell_type": "code",
   "execution_count": 18,
   "metadata": {},
   "outputs": [
    {
     "data": {
      "application/vnd.jupyter.widget-view+json": {
       "model_id": "4f608ea248e74040812d42893d749ef3",
       "version_major": 2,
       "version_minor": 0
      },
      "text/plain": [
       "HBox(children=(IntProgress(value=0, max=16858), HTML(value='')))"
      ]
     },
     "metadata": {},
     "output_type": "display_data"
    },
    {
     "name": "stdout",
     "output_type": "stream",
     "text": [
      "\n"
     ]
    }
   ],
   "source": [
    "imgs_features_test, image_names_test = get_featureas(data_path)"
   ]
  },
  {
   "cell_type": "code",
   "execution_count": 19,
   "metadata": {},
   "outputs": [],
   "source": [
    "def check_path(path):\n",
    "    os.system(\"if [ ! -d \" + path + \" ]; then mkdir -p \" + path + \"; fi\")"
   ]
  },
  {
   "cell_type": "code",
   "execution_count": 17,
   "metadata": {},
   "outputs": [],
   "source": [
    "# check_path(\"features/\")"
   ]
  },
  {
   "cell_type": "code",
   "execution_count": 25,
   "metadata": {},
   "outputs": [],
   "source": [
    "import pickle\n",
    "\n",
    "model_name = \"resnet50\"\n",
    "\n",
    "with open('features/imgs_features_test_'+model_name+'.pickle', 'wb') as f:\n",
    "            pickle.dump(imgs_features_test, f)\n",
    "        \n",
    "with open('features/image_names_test_'+model_name+'.pickle', 'wb') as f:\n",
    "            pickle.dump(image_names_test, f)\n",
    "        \n",
    "\n",
    "with open('features/imgs_features_'+model_name+'.pickle', 'wb') as f:\n",
    "            pickle.dump(imgs_features, f)\n",
    "        \n",
    "with open('features/image_names_'+model_name+'.pickle', 'wb') as f:\n",
    "            pickle.dump(image_names, f)"
   ]
  },
  {
   "cell_type": "code",
   "execution_count": 21,
   "metadata": {},
   "outputs": [],
   "source": [
    "# with open('filename.pickle', 'rb') as f:\n",
    "#             file_to_load = pickle.load(f)"
   ]
  },
  {
   "cell_type": "code",
   "execution_count": 22,
   "metadata": {},
   "outputs": [],
   "source": [
    "# with open('features/imgs_features_test_xception.pickle', 'wb') as f:\n",
    "#             pickle.dump(imgs_features_test, f)\n",
    "        \n",
    "# with open('features/image_names_test_xception.pickle', 'wb') as f:\n",
    "#             pickle.dump(image_names_test, f)\n",
    "        \n",
    "\n",
    "# with open('features/imgs_features_xception.pickle', 'wb') as f:\n",
    "#             pickle.dump(imgs_features, f)\n",
    "        \n",
    "# with open('features/image_names_xception.pickle', 'wb') as f:\n",
    "#             pickle.dump(image_names, f)"
   ]
  },
  {
   "cell_type": "markdown",
   "metadata": {},
   "source": [
    "## Try cosine simmilarity"
   ]
  },
  {
   "cell_type": "code",
   "execution_count": 23,
   "metadata": {},
   "outputs": [],
   "source": [
    "K = 5"
   ]
  },
  {
   "cell_type": "code",
   "execution_count": 8,
   "metadata": {},
   "outputs": [],
   "source": [
    "import pickle\n",
    "import numpy as np\n",
    "import pandas as pd"
   ]
  },
  {
   "cell_type": "code",
   "execution_count": 9,
   "metadata": {},
   "outputs": [
    {
     "data": {
      "text/plain": [
       "['imgs_features_test.pickle',\n",
       " 'imgs_features_resnet50.pickle',\n",
       " 'imgs_features_test_inception_v3.pickle',\n",
       " 'imgs_features.pickle',\n",
       " 'imgs_features_test_resnet50.pickle',\n",
       " 'imgs_features_inception_v3.pickle',\n",
       " 'imgs_features_1.pickle',\n",
       " 'imgs_features_densenet.pickle',\n",
       " 'image_names_1.pickle',\n",
       " 'imgs_features_test_densenet.pickle',\n",
       " 'image_names_test_resnet50.pickle',\n",
       " 'imgs_features_test_xception.pickle',\n",
       " 'image_names_test.pickle',\n",
       " 'image_names.pickle',\n",
       " 'imgs_features_xception.pickle',\n",
       " 'image_names_test_densenet.pickle',\n",
       " 'image_names_test_1.pickle',\n",
       " 'image_names_test_inception_v3.pickle',\n",
       " 'imgs_features_test_1.pickle',\n",
       " 'image_names_densenet.pickle',\n",
       " 'image_names_resnet50.pickle',\n",
       " 'image_names_test_xception.pickle',\n",
       " 'image_names_xception.pickle',\n",
       " 'image_names_inception_v3.pickle']"
      ]
     },
     "execution_count": 9,
     "metadata": {},
     "output_type": "execute_result"
    }
   ],
   "source": [
    "import os\n",
    "os.listdir(\"./features\")"
   ]
  },
  {
   "cell_type": "code",
   "execution_count": 12,
   "metadata": {},
   "outputs": [],
   "source": [
    "model_name = \"densenet\"\n",
    "\n",
    "with open('features/imgs_features_'+model_name+'.pickle', 'rb') as f:\n",
    "    imgs_features_train = pickle.load(f)\n",
    "\n",
    "with open('features/image_names_'+model_name+'.pickle', 'rb') as f:\n",
    "    image_names_train = pickle.load(f)\n",
    "    \n",
    "with open('features/imgs_features_test_'+model_name+'.pickle', 'rb') as f:\n",
    "    imgs_features_test = pickle.load(f)\n",
    "\n",
    "with open('features/image_names_test_'+model_name+'.pickle', 'rb') as f:\n",
    "    image_names_test = pickle.load(f)"
   ]
  },
  {
   "cell_type": "code",
   "execution_count": 22,
   "metadata": {},
   "outputs": [],
   "source": [
    "#imgs_features_train"
   ]
  },
  {
   "cell_type": "code",
   "execution_count": 25,
   "metadata": {},
   "outputs": [],
   "source": [
    "#image_names_train"
   ]
  },
  {
   "cell_type": "code",
   "execution_count": 26,
   "metadata": {},
   "outputs": [],
   "source": [
    "image_names_train = image_names\n",
    "imgs_features_train = imgs_features"
   ]
  },
  {
   "cell_type": "code",
   "execution_count": 27,
   "metadata": {},
   "outputs": [],
   "source": [
    "from sklearn.metrics.pairwise import cosine_similarity"
   ]
  },
  {
   "cell_type": "code",
   "execution_count": 28,
   "metadata": {},
   "outputs": [],
   "source": [
    "import pandas as pd"
   ]
  },
  {
   "cell_type": "code",
   "execution_count": 29,
   "metadata": {},
   "outputs": [],
   "source": [
    "# labels = pd.read_csv(\"train.csv\")\n",
    "# labels_dict = dict(zip(labels[\"name\"].values, labels[\"category\"].values))\n",
    "# labels.head(2)"
   ]
  },
  {
   "cell_type": "code",
   "execution_count": 30,
   "metadata": {},
   "outputs": [],
   "source": [
    "# name_df = pd.DataFrame(image_names_train, columns=[\"name\"])\n",
    "# name_df[\"category\"] = name_df[\"name\"].map(labels_dict)\n",
    "# name_df.head()"
   ]
  },
  {
   "cell_type": "code",
   "execution_count": 31,
   "metadata": {},
   "outputs": [],
   "source": [
    "#imgs_features_train"
   ]
  },
  {
   "cell_type": "code",
   "execution_count": 32,
   "metadata": {},
   "outputs": [],
   "source": [
    "#image_names_train "
   ]
  },
  {
   "cell_type": "code",
   "execution_count": 13,
   "metadata": {},
   "outputs": [],
   "source": [
    "K = 5"
   ]
  },
  {
   "cell_type": "code",
   "execution_count": 14,
   "metadata": {},
   "outputs": [],
   "source": [
    "from tqdm.auto import tqdm"
   ]
  },
  {
   "cell_type": "code",
   "execution_count": 20,
   "metadata": {},
   "outputs": [],
   "source": [
    "def get_predictions(imgs_features_train, imgs_features_test, image_names_train, labels_dict, K):\n",
    "    preds = []\n",
    "    cos = cosine_similarity(imgs_features_test, imgs_features_train)\n",
    "    for i in tqdm(range(len(imgs_features_test))):\n",
    "        nearest_indexes = cos[i].argsort()[::-1][:K]\n",
    "        categ = [[labels_dict[img]]*int(cos[i][j]*100) for img,j in zip(np.array(image_names_train)[nearest_indexes], nearest_indexes)]\n",
    "        categ = [item for sublist in categ for item in sublist]\n",
    "        counts = np.bincount(categ)\n",
    "        prediction = np.argmax(counts)\n",
    "        preds.append(prediction)\n",
    "    return preds"
   ]
  },
  {
   "cell_type": "code",
   "execution_count": null,
   "metadata": {},
   "outputs": [],
   "source": []
  },
  {
   "cell_type": "code",
   "execution_count": 16,
   "metadata": {},
   "outputs": [],
   "source": [
    "# def get_predictions(imgs_features_train, imgs_features_test, image_names_train, labels_dict, K):\n",
    "#     preds = []\n",
    "#     cos = cosine_similarity(imgs_features_test, imgs_features_train)\n",
    "#     for i in tqdm(range(len(imgs_features_test))):\n",
    "#         nearest_indexes = cos[i].argsort()[::-1]\n",
    "#         categ = [labels_dict[img] for img in np.array(image_names_train)[nearest_indexes[:K]]]\n",
    "#         counts = np.bincount(categ)\n",
    "#         prediction = np.argmax(counts)\n",
    "#         preds.append(prediction)\n",
    "#     return preds"
   ]
  },
  {
   "cell_type": "code",
   "execution_count": 21,
   "metadata": {},
   "outputs": [
    {
     "data": {
      "application/vnd.jupyter.widget-view+json": {
       "model_id": "3a3375702f64458584a2ae16386d3eca",
       "version_major": 2,
       "version_minor": 0
      },
      "text/plain": [
       "HBox(children=(IntProgress(value=0, max=16858), HTML(value='')))"
      ]
     },
     "metadata": {},
     "output_type": "display_data"
    },
    {
     "name": "stdout",
     "output_type": "stream",
     "text": [
      "\n"
     ]
    }
   ],
   "source": [
    "preds = get_predictions(imgs_features_train, imgs_features_test, image_names_train, labels_dict, K)"
   ]
  },
  {
   "cell_type": "code",
   "execution_count": 23,
   "metadata": {},
   "outputs": [
    {
     "data": {
      "text/html": [
       "<div>\n",
       "<style scoped>\n",
       "    .dataframe tbody tr th:only-of-type {\n",
       "        vertical-align: middle;\n",
       "    }\n",
       "\n",
       "    .dataframe tbody tr th {\n",
       "        vertical-align: top;\n",
       "    }\n",
       "\n",
       "    .dataframe thead th {\n",
       "        text-align: right;\n",
       "    }\n",
       "</style>\n",
       "<table border=\"1\" class=\"dataframe\">\n",
       "  <thead>\n",
       "    <tr style=\"text-align: right;\">\n",
       "      <th></th>\n",
       "      <th>name</th>\n",
       "      <th>category</th>\n",
       "    </tr>\n",
       "  </thead>\n",
       "  <tbody>\n",
       "    <tr>\n",
       "      <th>0</th>\n",
       "      <td>2078.jpg</td>\n",
       "      <td>2</td>\n",
       "    </tr>\n",
       "    <tr>\n",
       "      <th>1</th>\n",
       "      <td>13964.jpg</td>\n",
       "      <td>96</td>\n",
       "    </tr>\n",
       "  </tbody>\n",
       "</table>\n",
       "</div>"
      ],
      "text/plain": [
       "        name  category\n",
       "0   2078.jpg         2\n",
       "1  13964.jpg        96"
      ]
     },
     "execution_count": 23,
     "metadata": {},
     "output_type": "execute_result"
    }
   ],
   "source": [
    "old_sub = pd.read_csv(\"sub_knn_densenet121_with_back_K5.csv\")\n",
    "old_sub.head(2)"
   ]
  },
  {
   "cell_type": "code",
   "execution_count": 25,
   "metadata": {},
   "outputs": [
    {
     "data": {
      "text/plain": [
       "15174"
      ]
     },
     "execution_count": 25,
     "metadata": {},
     "output_type": "execute_result"
    }
   ],
   "source": [
    "sum(old_sub.category == submission.category)"
   ]
  },
  {
   "cell_type": "code",
   "execution_count": 24,
   "metadata": {},
   "outputs": [],
   "source": [
    "submission = pd.DataFrame({'name':image_names_test,'category':preds})"
   ]
  },
  {
   "cell_type": "code",
   "execution_count": 26,
   "metadata": {},
   "outputs": [],
   "source": [
    "submission.to_csv(\"sub_knn_densenet_weighted_K5.csv\", index=None)"
   ]
  },
  {
   "cell_type": "code",
   "execution_count": 39,
   "metadata": {},
   "outputs": [],
   "source": [
    "def send_message(message=\"end\", show_answer=False): #get notification for Maks in telegram\n",
    "    answer = os.popen('curl -s -X POST https://api.telegram.org/bot560011676:AAEH9bFv-kUsWL_z5Unt2FPu21hS9qlMdLA/sendMessage -d chat_id=182817525 -d text=\"'+message+'\"').read()\n",
    "    if show_answer:\n",
    "        print(answer)"
   ]
  },
  {
   "cell_type": "code",
   "execution_count": 40,
   "metadata": {},
   "outputs": [],
   "source": [
    "send_message(message=\"end knn\")"
   ]
  },
  {
   "cell_type": "code",
   "execution_count": null,
   "metadata": {},
   "outputs": [],
   "source": []
  },
  {
   "cell_type": "markdown",
   "metadata": {},
   "source": [
    "# Try local validation"
   ]
  },
  {
   "cell_type": "code",
   "execution_count": 1,
   "metadata": {},
   "outputs": [],
   "source": [
    "import pickle\n",
    "import numpy as np\n",
    "import pandas as pd\n",
    "from sklearn.model_selection import train_test_split\n",
    "from sklearn.metrics.pairwise import cosine_similarity\n",
    "from tqdm.auto import tqdm"
   ]
  },
  {
   "cell_type": "code",
   "execution_count": 2,
   "metadata": {},
   "outputs": [
    {
     "data": {
      "text/html": [
       "<div>\n",
       "<style scoped>\n",
       "    .dataframe tbody tr th:only-of-type {\n",
       "        vertical-align: middle;\n",
       "    }\n",
       "\n",
       "    .dataframe tbody tr th {\n",
       "        vertical-align: top;\n",
       "    }\n",
       "\n",
       "    .dataframe thead th {\n",
       "        text-align: right;\n",
       "    }\n",
       "</style>\n",
       "<table border=\"1\" class=\"dataframe\">\n",
       "  <thead>\n",
       "    <tr style=\"text-align: right;\">\n",
       "      <th></th>\n",
       "      <th>name</th>\n",
       "      <th>category</th>\n",
       "    </tr>\n",
       "  </thead>\n",
       "  <tbody>\n",
       "    <tr>\n",
       "      <th>0</th>\n",
       "      <td>0.jpg</td>\n",
       "      <td>47</td>\n",
       "    </tr>\n",
       "    <tr>\n",
       "      <th>1</th>\n",
       "      <td>1.jpg</td>\n",
       "      <td>60</td>\n",
       "    </tr>\n",
       "  </tbody>\n",
       "</table>\n",
       "</div>"
      ],
      "text/plain": [
       "    name  category\n",
       "0  0.jpg        47\n",
       "1  1.jpg        60"
      ]
     },
     "metadata": {},
     "output_type": "display_data"
    }
   ],
   "source": [
    "labels = pd.read_csv(\"train.csv\")\n",
    "labels_dict = dict(zip(labels[\"name\"].values, labels[\"category\"].values))\n",
    "display(labels.head(2))"
   ]
  },
  {
   "cell_type": "code",
   "execution_count": 3,
   "metadata": {},
   "outputs": [
    {
     "data": {
      "text/plain": [
       "['imgs_features_test.pickle',\n",
       " 'imgs_features_resnet50.pickle',\n",
       " 'imgs_features_test_inception_v3.pickle',\n",
       " 'imgs_features.pickle',\n",
       " 'imgs_features_test_resnet50.pickle',\n",
       " 'imgs_features_inception_v3.pickle',\n",
       " 'imgs_features_1.pickle',\n",
       " 'imgs_features_densenet.pickle',\n",
       " 'image_names_1.pickle',\n",
       " 'imgs_features_test_densenet.pickle',\n",
       " 'image_names_test_resnet50.pickle',\n",
       " 'imgs_features_test_xception.pickle',\n",
       " 'image_names_test.pickle',\n",
       " 'image_names.pickle',\n",
       " 'imgs_features_xception.pickle',\n",
       " 'image_names_test_densenet.pickle',\n",
       " 'image_names_test_1.pickle',\n",
       " 'image_names_test_inception_v3.pickle',\n",
       " 'imgs_features_test_1.pickle',\n",
       " 'image_names_densenet.pickle',\n",
       " 'image_names_resnet50.pickle',\n",
       " 'image_names_test_xception.pickle',\n",
       " 'image_names_xception.pickle',\n",
       " 'image_names_inception_v3.pickle']"
      ]
     },
     "execution_count": 3,
     "metadata": {},
     "output_type": "execute_result"
    }
   ],
   "source": [
    "import os\n",
    "os.listdir(\"./features\")"
   ]
  },
  {
   "cell_type": "code",
   "execution_count": 7,
   "metadata": {},
   "outputs": [],
   "source": [
    "def get_predictions(imgs_features_train, imgs_features_test, image_names_train, labels_dict, K):\n",
    "    preds = []\n",
    "    cos = cosine_similarity(imgs_features_test, imgs_features_train)\n",
    "    for i in tqdm(range(len(imgs_features_test))):\n",
    "        nearest_indexes = cos[i].argsort()[::-1][:K]\n",
    "        categ = [[labels_dict[img]]*int(cos[i][j]*100) for img,j in zip(np.array(image_names_train)[nearest_indexes], nearest_indexes)]\n",
    "        categ = [item for sublist in categ for item in sublist]\n",
    "        counts = np.bincount(categ)\n",
    "        prediction = np.argmax(counts)\n",
    "        preds.append(prediction)\n",
    "    return preds"
   ]
  },
  {
   "cell_type": "code",
   "execution_count": 8,
   "metadata": {},
   "outputs": [],
   "source": [
    "model_name = \"densenet\"\n",
    "\n",
    "with open('features/imgs_features_'+model_name+'.pickle', 'rb') as f:\n",
    "    imgs_features_train = pickle.load(f)\n",
    "\n",
    "with open('features/image_names_'+model_name+'.pickle', 'rb') as f:\n",
    "    image_names_train = pickle.load(f)\n",
    "    \n",
    "with open('features/imgs_features_test_'+model_name+'.pickle', 'rb') as f:\n",
    "    imgs_features_test = pickle.load(f)\n",
    "\n",
    "with open('features/image_names_test_'+model_name+'.pickle', 'rb') as f:\n",
    "    image_names_test = pickle.load(f)"
   ]
  },
  {
   "cell_type": "code",
   "execution_count": 5,
   "metadata": {},
   "outputs": [],
   "source": [
    "# name_df = pd.DataFrame(image_names_train, columns=[\"name\"])\n",
    "# name_df[\"category\"] = name_df[\"name\"].map(labels_dict)\n",
    "# name_df.head(2)"
   ]
  },
  {
   "cell_type": "code",
   "execution_count": 9,
   "metadata": {},
   "outputs": [
    {
     "data": {
      "application/vnd.jupyter.widget-view+json": {
       "model_id": "9fb169f96b5c4b7aa095cf51ba6b70d7",
       "version_major": 2,
       "version_minor": 0
      },
      "text/plain": [
       "HBox(children=(IntProgress(value=0, max=16858), HTML(value='')))"
      ]
     },
     "metadata": {},
     "output_type": "display_data"
    },
    {
     "name": "stdout",
     "output_type": "stream",
     "text": [
      "\n"
     ]
    }
   ],
   "source": [
    "preds = get_predictions(imgs_features_train, imgs_features_test, image_names_train, labels_dict, K=3)"
   ]
  },
  {
   "cell_type": "code",
   "execution_count": 10,
   "metadata": {},
   "outputs": [],
   "source": [
    "submission = pd.DataFrame({'name':image_names_test,'category':preds})\n",
    "submission.to_csv(\"submissions/sub_KNN_\"+model_name+\"_K3.csv\", index=None)"
   ]
  },
  {
   "cell_type": "code",
   "execution_count": null,
   "metadata": {},
   "outputs": [],
   "source": []
  },
  {
   "cell_type": "code",
   "execution_count": 11,
   "metadata": {},
   "outputs": [],
   "source": [
    "model_name = \"inception_v3\"\n",
    "\n",
    "with open('features/imgs_features_'+model_name+'.pickle', 'rb') as f:\n",
    "    imgs_features_train = pickle.load(f)\n",
    "\n",
    "with open('features/image_names_'+model_name+'.pickle', 'rb') as f:\n",
    "    image_names_train = pickle.load(f)\n",
    "    \n",
    "with open('features/imgs_features_test_'+model_name+'.pickle', 'rb') as f:\n",
    "    imgs_features_test = pickle.load(f)\n",
    "\n",
    "with open('features/image_names_test_'+model_name+'.pickle', 'rb') as f:\n",
    "    image_names_test = pickle.load(f)"
   ]
  },
  {
   "cell_type": "code",
   "execution_count": 12,
   "metadata": {},
   "outputs": [
    {
     "data": {
      "application/vnd.jupyter.widget-view+json": {
       "model_id": "9769fbf7e89c435494be070e94b62050",
       "version_major": 2,
       "version_minor": 0
      },
      "text/plain": [
       "HBox(children=(IntProgress(value=0, max=16858), HTML(value='')))"
      ]
     },
     "metadata": {},
     "output_type": "display_data"
    },
    {
     "name": "stdout",
     "output_type": "stream",
     "text": [
      "\n"
     ]
    }
   ],
   "source": [
    "preds = get_predictions(imgs_features_train, imgs_features_test, image_names_train, labels_dict, K=3)"
   ]
  },
  {
   "cell_type": "code",
   "execution_count": 13,
   "metadata": {},
   "outputs": [],
   "source": [
    "submission = pd.DataFrame({'name':image_names_test,'category':preds})\n",
    "submission.to_csv(\"submissions/sub_KNN_\"+model_name+\"_K3.csv\", index=None)"
   ]
  },
  {
   "cell_type": "code",
   "execution_count": null,
   "metadata": {},
   "outputs": [],
   "source": []
  },
  {
   "cell_type": "code",
   "execution_count": 14,
   "metadata": {},
   "outputs": [],
   "source": [
    "model_name = \"resnet50\"\n",
    "\n",
    "with open('features/imgs_features_'+model_name+'.pickle', 'rb') as f:\n",
    "    imgs_features_train = pickle.load(f)\n",
    "\n",
    "with open('features/image_names_'+model_name+'.pickle', 'rb') as f:\n",
    "    image_names_train = pickle.load(f)\n",
    "    \n",
    "with open('features/imgs_features_test_'+model_name+'.pickle', 'rb') as f:\n",
    "    imgs_features_test = pickle.load(f)\n",
    "\n",
    "with open('features/image_names_test_'+model_name+'.pickle', 'rb') as f:\n",
    "    image_names_test = pickle.load(f)"
   ]
  },
  {
   "cell_type": "code",
   "execution_count": 15,
   "metadata": {},
   "outputs": [
    {
     "data": {
      "application/vnd.jupyter.widget-view+json": {
       "model_id": "3420474fcc734802a28c9de7a50e041c",
       "version_major": 2,
       "version_minor": 0
      },
      "text/plain": [
       "HBox(children=(IntProgress(value=0, max=16858), HTML(value='')))"
      ]
     },
     "metadata": {},
     "output_type": "display_data"
    },
    {
     "name": "stdout",
     "output_type": "stream",
     "text": [
      "\n"
     ]
    }
   ],
   "source": [
    "preds = get_predictions(imgs_features_train, imgs_features_test, image_names_train, labels_dict, K=3)"
   ]
  },
  {
   "cell_type": "code",
   "execution_count": 16,
   "metadata": {},
   "outputs": [],
   "source": [
    "submission = pd.DataFrame({'name':image_names_test,'category':preds})\n",
    "submission.to_csv(\"submissions/sub_KNN_\"+model_name+\"_K3.csv\", index=None)"
   ]
  },
  {
   "cell_type": "code",
   "execution_count": null,
   "metadata": {},
   "outputs": [],
   "source": []
  },
  {
   "cell_type": "code",
   "execution_count": 17,
   "metadata": {},
   "outputs": [],
   "source": [
    "model_name = \"xception\"\n",
    "\n",
    "with open('features/imgs_features_'+model_name+'.pickle', 'rb') as f:\n",
    "    imgs_features_train = pickle.load(f)\n",
    "\n",
    "with open('features/image_names_'+model_name+'.pickle', 'rb') as f:\n",
    "    image_names_train = pickle.load(f)\n",
    "    \n",
    "with open('features/imgs_features_test_'+model_name+'.pickle', 'rb') as f:\n",
    "    imgs_features_test = pickle.load(f)\n",
    "\n",
    "with open('features/image_names_test_'+model_name+'.pickle', 'rb') as f:\n",
    "    image_names_test = pickle.load(f)"
   ]
  },
  {
   "cell_type": "code",
   "execution_count": 18,
   "metadata": {},
   "outputs": [
    {
     "data": {
      "application/vnd.jupyter.widget-view+json": {
       "model_id": "69bdd7fdd0604276b096309cb33a6c70",
       "version_major": 2,
       "version_minor": 0
      },
      "text/plain": [
       "HBox(children=(IntProgress(value=0, max=16858), HTML(value='')))"
      ]
     },
     "metadata": {},
     "output_type": "display_data"
    },
    {
     "name": "stdout",
     "output_type": "stream",
     "text": [
      "\n"
     ]
    }
   ],
   "source": [
    "preds = get_predictions(imgs_features_train, imgs_features_test, image_names_train, labels_dict, K=3)"
   ]
  },
  {
   "cell_type": "code",
   "execution_count": 19,
   "metadata": {},
   "outputs": [],
   "source": [
    "submission = pd.DataFrame({'name':image_names_test,'category':preds})\n",
    "submission.to_csv(\"submissions/sub_KNN_\"+model_name+\"_K3.csv\", index=None)"
   ]
  },
  {
   "cell_type": "code",
   "execution_count": null,
   "metadata": {},
   "outputs": [],
   "source": [
    "X = imgs_features_train\n",
    "y = name_df"
   ]
  },
  {
   "cell_type": "code",
   "execution_count": null,
   "metadata": {},
   "outputs": [],
   "source": [
    "X_train, X_test, y_train, y_test = train_test_split(X, y, test_size=0.1)"
   ]
  },
  {
   "cell_type": "code",
   "execution_count": null,
   "metadata": {},
   "outputs": [],
   "source": []
  },
  {
   "cell_type": "code",
   "execution_count": 53,
   "metadata": {},
   "outputs": [
    {
     "data": {
      "application/vnd.jupyter.widget-view+json": {
       "model_id": "ed112d871d0c4a69b87f5365cb28663d",
       "version_major": 2,
       "version_minor": 0
      },
      "text/plain": [
       "HBox(children=(IntProgress(value=0, max=1686), HTML(value='')))"
      ]
     },
     "metadata": {},
     "output_type": "display_data"
    },
    {
     "name": "stdout",
     "output_type": "stream",
     "text": [
      "\n"
     ]
    }
   ],
   "source": [
    "preds = get_predictions(X_train, X_test, y_train[\"name\"].values, labels_dict, K=5)"
   ]
  },
  {
   "cell_type": "code",
   "execution_count": 52,
   "metadata": {},
   "outputs": [
    {
     "data": {
      "text/plain": [
       "0.5563463819691578"
      ]
     },
     "execution_count": 52,
     "metadata": {},
     "output_type": "execute_result"
    }
   ],
   "source": [
    "sum(np.array(preds) == y_test[\"category\"].values)/len(np.array(preds))"
   ]
  },
  {
   "cell_type": "code",
   "execution_count": 54,
   "metadata": {},
   "outputs": [
    {
     "data": {
      "text/plain": [
       "0.5539739027283511"
      ]
     },
     "execution_count": 54,
     "metadata": {},
     "output_type": "execute_result"
    }
   ],
   "source": [
    "sum(np.array(preds) == y_test[\"category\"].values)/len(np.array(preds))"
   ]
  },
  {
   "cell_type": "code",
   "execution_count": null,
   "metadata": {},
   "outputs": [],
   "source": []
  },
  {
   "cell_type": "code",
   "execution_count": 43,
   "metadata": {},
   "outputs": [
    {
     "data": {
      "text/plain": [
       "0.5302491103202847"
      ]
     },
     "execution_count": 43,
     "metadata": {},
     "output_type": "execute_result"
    }
   ],
   "source": [
    "sum(np.array(preds) == y_test[\"category\"].values)/len(np.array(preds))"
   ]
  },
  {
   "cell_type": "code",
   "execution_count": 45,
   "metadata": {},
   "outputs": [
    {
     "data": {
      "text/plain": [
       "0.5284697508896797"
      ]
     },
     "execution_count": 45,
     "metadata": {},
     "output_type": "execute_result"
    }
   ],
   "source": [
    "sum(np.array(preds) == y_test[\"category\"].values)/len(np.array(preds))"
   ]
  },
  {
   "cell_type": "code",
   "execution_count": 47,
   "metadata": {},
   "outputs": [
    {
     "data": {
      "text/plain": [
       "0.5284697508896797"
      ]
     },
     "execution_count": 47,
     "metadata": {},
     "output_type": "execute_result"
    }
   ],
   "source": [
    "sum(np.array(preds) == y_test[\"category\"].values)/len(np.array(preds))"
   ]
  },
  {
   "cell_type": "code",
   "execution_count": null,
   "metadata": {},
   "outputs": [],
   "source": []
  },
  {
   "cell_type": "code",
   "execution_count": 37,
   "metadata": {},
   "outputs": [
    {
     "data": {
      "text/plain": [
       "0.5782918149466192"
      ]
     },
     "execution_count": 37,
     "metadata": {},
     "output_type": "execute_result"
    }
   ],
   "source": [
    "sum(np.array(preds) == y_test[\"category\"].values)/len(np.array(preds))"
   ]
  },
  {
   "cell_type": "code",
   "execution_count": 35,
   "metadata": {},
   "outputs": [
    {
     "data": {
      "text/plain": [
       "0.5652431791221827"
      ]
     },
     "execution_count": 35,
     "metadata": {},
     "output_type": "execute_result"
    }
   ],
   "source": [
    "sum(np.array(preds) == y_test[\"category\"].values)/len(np.array(preds))"
   ]
  },
  {
   "cell_type": "code",
   "execution_count": 33,
   "metadata": {},
   "outputs": [
    {
     "data": {
      "text/plain": [
       "0.5658362989323843"
      ]
     },
     "execution_count": 33,
     "metadata": {},
     "output_type": "execute_result"
    }
   ],
   "source": [
    "sum(np.array(preds) == y_test[\"category\"].values)/len(np.array(preds))"
   ]
  },
  {
   "cell_type": "code",
   "execution_count": null,
   "metadata": {},
   "outputs": [],
   "source": []
  },
  {
   "cell_type": "code",
   "execution_count": null,
   "metadata": {},
   "outputs": [],
   "source": []
  },
  {
   "cell_type": "code",
   "execution_count": null,
   "metadata": {},
   "outputs": [],
   "source": []
  },
  {
   "cell_type": "code",
   "execution_count": null,
   "metadata": {},
   "outputs": [],
   "source": []
  },
  {
   "cell_type": "code",
   "execution_count": null,
   "metadata": {},
   "outputs": [],
   "source": []
  },
  {
   "cell_type": "code",
   "execution_count": null,
   "metadata": {},
   "outputs": [],
   "source": []
  },
  {
   "cell_type": "code",
   "execution_count": null,
   "metadata": {},
   "outputs": [],
   "source": []
  }
 ],
 "metadata": {
  "kernelspec": {
   "display_name": "Python 3",
   "language": "python",
   "name": "python3"
  },
  "language_info": {
   "codemirror_mode": {
    "name": "ipython",
    "version": 3
   },
   "file_extension": ".py",
   "mimetype": "text/x-python",
   "name": "python",
   "nbconvert_exporter": "python",
   "pygments_lexer": "ipython3",
   "version": "3.6.9"
  }
 },
 "nbformat": 4,
 "nbformat_minor": 2
}
